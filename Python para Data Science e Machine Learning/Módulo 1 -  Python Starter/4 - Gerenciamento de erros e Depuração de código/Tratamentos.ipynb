{
 "cells": [
  {
   "cell_type": "markdown",
   "id": "74f7b230",
   "metadata": {},
   "source": [
    "# 1 - Python Debbuger"
   ]
  },
  {
   "cell_type": "code",
   "execution_count": null,
   "id": "ccf24d63",
   "metadata": {},
   "outputs": [],
   "source": [
    "import pdb"
   ]
  },
  {
   "cell_type": "code",
   "execution_count": null,
   "id": "f41f8e0e",
   "metadata": {},
   "outputs": [],
   "source": [
    "x = [1,2,3]\n",
    "y = 4\n",
    "z = 5"
   ]
  },
  {
   "cell_type": "code",
   "execution_count": null,
   "id": "f361d1d5",
   "metadata": {},
   "outputs": [],
   "source": [
    "z + y\n",
    "\n",
    "pdb.set_trace()\n",
    "\n",
    "x + z"
   ]
  },
  {
   "cell_type": "markdown",
   "id": "0f7bc337",
   "metadata": {},
   "source": [
    "# 2 - Try, Except, Finally"
   ]
  },
  {
   "cell_type": "code",
   "execution_count": null,
   "id": "afe08c38",
   "metadata": {},
   "outputs": [],
   "source": [
    "x = [1,2,3]\n",
    "y = \"A\"\n",
    "x + y"
   ]
  },
  {
   "cell_type": "code",
   "execution_count": null,
   "id": "d2b2699c",
   "metadata": {},
   "outputs": [],
   "source": [
    "try:\n",
    "    x + y\n",
    "except:\n",
    "    print(\"DEU ERRO\")\n",
    "\n",
    "print(\"Fora do Laço\")"
   ]
  },
  {
   "cell_type": "code",
   "execution_count": null,
   "id": "0f4210d9",
   "metadata": {},
   "outputs": [],
   "source": [
    "try:\n",
    "    x + y\n",
    "except Exception as A:\n",
    "    print(\"DEU ERRO: {}\".format(A))\n",
    "print(\"Trabalahndo com o erro\")"
   ]
  },
  {
   "cell_type": "code",
   "execution_count": null,
   "id": "6bf9dbc2",
   "metadata": {},
   "outputs": [],
   "source": [
    "try:\n",
    "   # x + y\n",
    "    x = \"batata\"\n",
    "except Exception as A:\n",
    "    print(\"DEU ERRO: {}\".format(A))\n",
    "finally:\n",
    "    print(\"finalmente\")"
   ]
  },
  {
   "cell_type": "markdown",
   "id": "77d5b085",
   "metadata": {},
   "source": [
    "# 3 - Logging"
   ]
  },
  {
   "cell_type": "code",
   "execution_count": 1,
   "id": "cc3cdfd5",
   "metadata": {},
   "outputs": [],
   "source": [
    "import logging"
   ]
  },
  {
   "cell_type": "code",
   "execution_count": 2,
   "id": "c0d9816d",
   "metadata": {},
   "outputs": [],
   "source": [
    "LOG_FORMAT = \"%(levelname)s %(asctime)s - %(message)s\""
   ]
  },
  {
   "cell_type": "code",
   "execution_count": 3,
   "id": "0b3a54a9",
   "metadata": {},
   "outputs": [],
   "source": [
    "logging.basicConfig(filename=\"app.log\", level=logging.DEBUG, filemode=\"w\", format=LOG_FORMAT)"
   ]
  },
  {
   "cell_type": "code",
   "execution_count": 4,
   "id": "4115c722",
   "metadata": {},
   "outputs": [],
   "source": [
    "log = logging.getLogger()"
   ]
  },
  {
   "cell_type": "code",
   "execution_count": 5,
   "id": "cc0e2a46",
   "metadata": {},
   "outputs": [],
   "source": [
    "log.info(\"SALVE\")\n",
    "log.critical(\"TA CRITICO\")\n",
    "log.error(\"ERROROUUU\")\n",
    "log.debug(\"DEBUGANDUU\")\n",
    "log.warning(\"AVISANDOUU\")"
   ]
  },
  {
   "cell_type": "code",
   "execution_count": 6,
   "id": "cdb3e1bf",
   "metadata": {},
   "outputs": [
    {
     "data": {
      "text/plain": [
       "10"
      ]
     },
     "execution_count": 6,
     "metadata": {},
     "output_type": "execute_result"
    }
   ],
   "source": [
    "log.level"
   ]
  }
 ],
 "metadata": {
  "kernelspec": {
   "display_name": "Python 3 (ipykernel)",
   "language": "python",
   "name": "python3"
  },
  "language_info": {
   "codemirror_mode": {
    "name": "ipython",
    "version": 3
   },
   "file_extension": ".py",
   "mimetype": "text/x-python",
   "name": "python",
   "nbconvert_exporter": "python",
   "pygments_lexer": "ipython3",
   "version": "3.10.9"
  }
 },
 "nbformat": 4,
 "nbformat_minor": 5
}
