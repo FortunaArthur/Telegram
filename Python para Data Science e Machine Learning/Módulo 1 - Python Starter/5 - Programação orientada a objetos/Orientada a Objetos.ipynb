{
 "cells": [
  {
   "cell_type": "markdown",
   "id": "d812af8d",
   "metadata": {},
   "source": [
    "# 1 - Objetos e Classes"
   ]
  },
  {
   "cell_type": "code",
   "execution_count": 1,
   "id": "4bf7ef54",
   "metadata": {},
   "outputs": [],
   "source": [
    "class Exemplo:\n",
    "    pass"
   ]
  },
  {
   "cell_type": "code",
   "execution_count": 2,
   "id": "b67630fe",
   "metadata": {},
   "outputs": [],
   "source": [
    "x = Exemplo()"
   ]
  },
  {
   "cell_type": "code",
   "execution_count": 3,
   "id": "adc92cbc",
   "metadata": {},
   "outputs": [
    {
     "name": "stdout",
     "output_type": "stream",
     "text": [
      "<class '__main__.Exemplo'>\n"
     ]
    }
   ],
   "source": [
    "print(type(x))"
   ]
  },
  {
   "cell_type": "markdown",
   "id": "c419d38e",
   "metadata": {},
   "source": [
    "# 2 - Classes e Métodos"
   ]
  },
  {
   "cell_type": "code",
   "execution_count": 4,
   "id": "e1ae4370",
   "metadata": {},
   "outputs": [],
   "source": [
    "class Cachorro:\n",
    "    def __init__(self, raca):\n",
    "        self.raca = raca\n",
    "        self.idade = 0\n",
    "    def Velhice(self):\n",
    "        self.idade += 1\n",
    "        return self.idade"
   ]
  },
  {
   "cell_type": "code",
   "execution_count": 5,
   "id": "8b7a3cfa",
   "metadata": {},
   "outputs": [],
   "source": [
    "spike = Cachorro(\"dashround\")\n",
    "toddy = Cachorro(\"baseround\")"
   ]
  },
  {
   "cell_type": "code",
   "execution_count": 6,
   "id": "35fc195e",
   "metadata": {},
   "outputs": [],
   "source": [
    "spike.idade = 12\n",
    "toddy.idade = 7"
   ]
  },
  {
   "cell_type": "code",
   "execution_count": 7,
   "id": "16a7b2a0",
   "metadata": {},
   "outputs": [
    {
     "name": "stdout",
     "output_type": "stream",
     "text": [
      "12\n",
      "dashround\n"
     ]
    }
   ],
   "source": [
    "print(spike.idade)\n",
    "print(spike.raca)"
   ]
  },
  {
   "cell_type": "code",
   "execution_count": 8,
   "id": "4f93bab3",
   "metadata": {},
   "outputs": [
    {
     "name": "stdout",
     "output_type": "stream",
     "text": [
      "7\n",
      "baseround\n"
     ]
    }
   ],
   "source": [
    "print(toddy.idade)\n",
    "print(toddy.raca)"
   ]
  },
  {
   "cell_type": "code",
   "execution_count": 9,
   "id": "883c9924",
   "metadata": {},
   "outputs": [
    {
     "data": {
      "text/plain": [
       "8"
      ]
     },
     "execution_count": 9,
     "metadata": {},
     "output_type": "execute_result"
    }
   ],
   "source": [
    "spike.Velhice()\n",
    "toddy.Velhice()"
   ]
  },
  {
   "cell_type": "code",
   "execution_count": 10,
   "id": "000e6a99",
   "metadata": {},
   "outputs": [
    {
     "data": {
      "text/plain": [
       "9"
      ]
     },
     "execution_count": 10,
     "metadata": {},
     "output_type": "execute_result"
    }
   ],
   "source": [
    "toddy.Velhice()"
   ]
  },
  {
   "cell_type": "code",
   "execution_count": 11,
   "id": "235773ee",
   "metadata": {},
   "outputs": [
    {
     "name": "stdout",
     "output_type": "stream",
     "text": [
      "13\n",
      "9\n"
     ]
    }
   ],
   "source": [
    "print(spike.idade)\n",
    "print(toddy.idade)"
   ]
  },
  {
   "cell_type": "code",
   "execution_count": 32,
   "id": "8d626037",
   "metadata": {},
   "outputs": [],
   "source": [
    "class Circulo:\n",
    "    def __init__(self, raio=1):\n",
    "        self.raio = raio\n",
    "        \n",
    "    def calcular(self):\n",
    "        self.diametro = self.raio * 2\n",
    "        self.area = self.raio * self.raio * 3.14\n",
    "        return self.diametro, self.area"
   ]
  },
  {
   "cell_type": "code",
   "execution_count": 33,
   "id": "22996915",
   "metadata": {},
   "outputs": [],
   "source": [
    "c1 = Circulo()\n",
    "c2 = Circulo(2)"
   ]
  },
  {
   "cell_type": "code",
   "execution_count": 34,
   "id": "835e8b01",
   "metadata": {},
   "outputs": [
    {
     "data": {
      "text/plain": [
       "(2, 3.14)"
      ]
     },
     "execution_count": 34,
     "metadata": {},
     "output_type": "execute_result"
    }
   ],
   "source": [
    "c1.calcular()"
   ]
  },
  {
   "cell_type": "code",
   "execution_count": 35,
   "id": "a896144f",
   "metadata": {},
   "outputs": [
    {
     "data": {
      "text/plain": [
       "(4, 12.56)"
      ]
     },
     "execution_count": 35,
     "metadata": {},
     "output_type": "execute_result"
    }
   ],
   "source": [
    "c2.calcular()"
   ]
  },
  {
   "cell_type": "markdown",
   "id": "ca6eb5ab",
   "metadata": {},
   "source": [
    "# 3 - Herança"
   ]
  },
  {
   "cell_type": "code",
   "execution_count": 36,
   "id": "6f175310",
   "metadata": {},
   "outputs": [],
   "source": [
    "class Animal:\n",
    "    def __init__(self):\n",
    "        print(\"Animal Criado\")\n",
    "    \n",
    "    def eu(self):\n",
    "        print(\"Eu sou um animal\")\n",
    "        \n",
    "    def comer(self):\n",
    "        print(\"comendo\")"
   ]
  },
  {
   "cell_type": "code",
   "execution_count": 37,
   "id": "11b4feef",
   "metadata": {},
   "outputs": [],
   "source": [
    "class Tigre(Animal):\n",
    "    def __init__(self):\n",
    "        Animal.__init__(self)\n",
    "        print(\"Eu sou um Tigre\")\n",
    "        \n",
    "    def comer(self):\n",
    "        print(\"comendo um cervo\")"
   ]
  },
  {
   "cell_type": "code",
   "execution_count": 38,
   "id": "67b5d0eb",
   "metadata": {},
   "outputs": [
    {
     "name": "stdout",
     "output_type": "stream",
     "text": [
      "Animal Criado\n"
     ]
    }
   ],
   "source": [
    "animal = Animal()"
   ]
  },
  {
   "cell_type": "code",
   "execution_count": 39,
   "id": "b867f258",
   "metadata": {},
   "outputs": [
    {
     "name": "stdout",
     "output_type": "stream",
     "text": [
      "Animal Criado\n",
      "Eu sou um Tigre\n"
     ]
    }
   ],
   "source": [
    "tigre = Tigre()"
   ]
  },
  {
   "cell_type": "code",
   "execution_count": 41,
   "id": "f1fa0b7b",
   "metadata": {},
   "outputs": [
    {
     "name": "stdout",
     "output_type": "stream",
     "text": [
      "comendo\n"
     ]
    }
   ],
   "source": [
    "animal.comer()"
   ]
  },
  {
   "cell_type": "code",
   "execution_count": 42,
   "id": "84728c91",
   "metadata": {},
   "outputs": [
    {
     "name": "stdout",
     "output_type": "stream",
     "text": [
      "comendo um cervo\n"
     ]
    }
   ],
   "source": [
    "tigre.comer()"
   ]
  },
  {
   "cell_type": "markdown",
   "id": "aec184b7",
   "metadata": {},
   "source": [
    "# 4 - Metodos"
   ]
  },
  {
   "cell_type": "code",
   "execution_count": 51,
   "id": "a57f2916",
   "metadata": {},
   "outputs": [],
   "source": [
    "class Livro:\n",
    "    def __init__(self, nome, autor, paginas):\n",
    "        print(\"Livro Criado\")\n",
    "        self.nome = nome\n",
    "        self.autor = autor\n",
    "        self.paginas = paginas\n",
    "        \n",
    "    def __str__(self):\n",
    "        return \"Titulo: %s || Autor(a): %s || Numero de Paginas: %s\" % (self.nome, self.autor, self.paginas)\n",
    "    \n",
    "    def __len__(self):\n",
    "        return self.paginas\n",
    "    \n",
    "    def __del__(self):\n",
    "        print(\"Livro Destruido\")"
   ]
  },
  {
   "cell_type": "code",
   "execution_count": 52,
   "id": "0b02501e",
   "metadata": {},
   "outputs": [
    {
     "name": "stdout",
     "output_type": "stream",
     "text": [
      "Livro Criado\n"
     ]
    }
   ],
   "source": [
    "livro = Livro(\"Mil e Uma noites viradas\", \"EU MEMO\", 1001)"
   ]
  },
  {
   "cell_type": "code",
   "execution_count": 53,
   "id": "e1550774",
   "metadata": {},
   "outputs": [
    {
     "name": "stdout",
     "output_type": "stream",
     "text": [
      "Titulo: Mil e Uma noites viradas || Autor(a): EU MEMO || Numero de Paginas: 1001\n"
     ]
    }
   ],
   "source": [
    "print(livro)"
   ]
  },
  {
   "cell_type": "code",
   "execution_count": 54,
   "id": "077566e3",
   "metadata": {},
   "outputs": [
    {
     "data": {
      "text/plain": [
       "1001"
      ]
     },
     "execution_count": 54,
     "metadata": {},
     "output_type": "execute_result"
    }
   ],
   "source": [
    "len(livro)"
   ]
  },
  {
   "cell_type": "code",
   "execution_count": 55,
   "id": "40abcbbd",
   "metadata": {},
   "outputs": [
    {
     "name": "stdout",
     "output_type": "stream",
     "text": [
      "Livro Destruido\n"
     ]
    }
   ],
   "source": [
    "del livro"
   ]
  },
  {
   "cell_type": "code",
   "execution_count": 56,
   "id": "829a3612",
   "metadata": {},
   "outputs": [
    {
     "ename": "NameError",
     "evalue": "name 'livro' is not defined",
     "output_type": "error",
     "traceback": [
      "\u001b[1;31m---------------------------------------------------------------------------\u001b[0m",
      "\u001b[1;31mNameError\u001b[0m                                 Traceback (most recent call last)",
      "Cell \u001b[1;32mIn[56], line 1\u001b[0m\n\u001b[1;32m----> 1\u001b[0m \u001b[43mlivro\u001b[49m\n",
      "\u001b[1;31mNameError\u001b[0m: name 'livro' is not defined"
     ]
    }
   ],
   "source": [
    "livro"
   ]
  }
 ],
 "metadata": {
  "kernelspec": {
   "display_name": "Python 3 (ipykernel)",
   "language": "python",
   "name": "python3"
  },
  "language_info": {
   "codemirror_mode": {
    "name": "ipython",
    "version": 3
   },
   "file_extension": ".py",
   "mimetype": "text/x-python",
   "name": "python",
   "nbconvert_exporter": "python",
   "pygments_lexer": "ipython3",
   "version": "3.10.9"
  }
 },
 "nbformat": 4,
 "nbformat_minor": 5
}
