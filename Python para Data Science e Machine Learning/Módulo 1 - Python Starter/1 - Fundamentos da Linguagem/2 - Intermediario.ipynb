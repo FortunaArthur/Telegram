{
 "cells": [
  {
   "cell_type": "markdown",
   "id": "00e6d969",
   "metadata": {},
   "source": [
    "# 1 - Controle de Decisão"
   ]
  },
  {
   "cell_type": "code",
   "execution_count": 1,
   "id": "3a3e59b1",
   "metadata": {},
   "outputs": [
    {
     "name": "stdout",
     "output_type": "stream",
     "text": [
      "dia frio\n"
     ]
    }
   ],
   "source": [
    "temp = -5\n",
    "if temp > 28:\n",
    "    print(\"dia quente\")\n",
    "elif temp < 10:\n",
    "    print(\"dia frio\")\n",
    "else:\n",
    "    print(\"dia normal\")"
   ]
  },
  {
   "cell_type": "markdown",
   "id": "4ac15b1b",
   "metadata": {},
   "source": [
    "# 2  - Range"
   ]
  },
  {
   "cell_type": "code",
   "execution_count": 3,
   "id": "de54a448",
   "metadata": {},
   "outputs": [
    {
     "data": {
      "text/plain": [
       "[0, 1, 2, 3, 4, 5, 6, 7, 8, 9, 10]"
      ]
     },
     "execution_count": 3,
     "metadata": {},
     "output_type": "execute_result"
    }
   ],
   "source": [
    "list(range(0,11,1))"
   ]
  },
  {
   "cell_type": "code",
   "execution_count": 4,
   "id": "ba648e08",
   "metadata": {},
   "outputs": [
    {
     "data": {
      "text/plain": [
       "[0, 2, 4, 6, 8, 10]"
      ]
     },
     "execution_count": 4,
     "metadata": {},
     "output_type": "execute_result"
    }
   ],
   "source": [
    "list(range(0,11,2))"
   ]
  },
  {
   "cell_type": "code",
   "execution_count": 5,
   "id": "e2ab1a37",
   "metadata": {},
   "outputs": [
    {
     "data": {
      "text/plain": [
       "[0, 3, 6, 9]"
      ]
     },
     "execution_count": 5,
     "metadata": {},
     "output_type": "execute_result"
    }
   ],
   "source": [
    "list(range(0,11,3))"
   ]
  },
  {
   "cell_type": "markdown",
   "id": "8828ef5f",
   "metadata": {},
   "source": [
    "# 3 - For"
   ]
  },
  {
   "cell_type": "code",
   "execution_count": 6,
   "id": "6d44474a",
   "metadata": {},
   "outputs": [
    {
     "name": "stdout",
     "output_type": "stream",
     "text": [
      "0\n",
      "1\n",
      "2\n",
      "3\n",
      "4\n",
      "5\n",
      "6\n",
      "7\n",
      "8\n",
      "9\n"
     ]
    }
   ],
   "source": [
    "for i in range(10):\n",
    "    print(i)"
   ]
  },
  {
   "cell_type": "code",
   "execution_count": 11,
   "id": "169ad287",
   "metadata": {},
   "outputs": [
    {
     "name": "stdout",
     "output_type": "stream",
     "text": [
      "1\n",
      "2\n",
      "3\n",
      "Z\n",
      "4\n",
      "5\n",
      "6\n",
      "H\n"
     ]
    }
   ],
   "source": [
    "lista = [1,2,3,\"Z\",4,5,6,\"H\"]\n",
    "for i in lista:\n",
    "    print(i)"
   ]
  },
  {
   "cell_type": "code",
   "execution_count": 12,
   "id": "94b0d8c2",
   "metadata": {},
   "outputs": [
    {
     "name": "stdout",
     "output_type": "stream",
     "text": [
      "t\n",
      "e\n",
      "s\n",
      "t\n",
      "e\n"
     ]
    }
   ],
   "source": [
    "for i in \"teste\":\n",
    "    print(i)"
   ]
  },
  {
   "cell_type": "code",
   "execution_count": 13,
   "id": "72d2cf77",
   "metadata": {},
   "outputs": [
    {
     "name": "stdout",
     "output_type": "stream",
     "text": [
      "0\n",
      "2\n",
      "4\n",
      "6\n",
      "8\n"
     ]
    }
   ],
   "source": [
    "for i in range(10):\n",
    "    if i % 2 == 0:\n",
    "        print(i)"
   ]
  },
  {
   "cell_type": "markdown",
   "id": "1fcccee9",
   "metadata": {},
   "source": [
    "# 4 - While"
   ]
  },
  {
   "cell_type": "code",
   "execution_count": 14,
   "id": "c5ec0804",
   "metadata": {},
   "outputs": [
    {
     "name": "stdout",
     "output_type": "stream",
     "text": [
      "valor de x:  0\n",
      "valor de x:  1\n",
      "valor de x:  2\n",
      "valor de x:  3\n",
      "valor de x:  4\n",
      "valor de x:  5\n",
      "valor de x:  6\n",
      "valor de x:  7\n",
      "valor de x:  8\n",
      "valor de x:  9\n"
     ]
    }
   ],
   "source": [
    "x = 0\n",
    "while x < 10:\n",
    "    print(\"valor de x: \",x)\n",
    "    x+=1"
   ]
  },
  {
   "cell_type": "code",
   "execution_count": 16,
   "id": "e4bbda82",
   "metadata": {},
   "outputs": [
    {
     "name": "stdout",
     "output_type": "stream",
     "text": [
      "valor de x:  0\n",
      "somando +1\n",
      "valor de x:  1\n",
      "somando +1\n",
      "valor de x:  2\n",
      "somando +1\n",
      "valor de x:  3\n",
      "somando +1\n",
      "valor de x:  4\n",
      "somando +1\n",
      "valor de x:  5\n",
      "somando +1\n",
      "valor de x:  6\n",
      "somando +1\n",
      "valor de x:  7\n",
      "somando +1\n",
      "valor de x:  8\n",
      "somando +1\n",
      "valor de x:  9\n",
      "somando +1\n",
      "fim\n"
     ]
    }
   ],
   "source": [
    "x = 0\n",
    "while x < 10:\n",
    "    print(\"valor de x: \",x)\n",
    "    x+=1\n",
    "    print(\"somando +1\")\n",
    "else:\n",
    "    print(\"fim\")"
   ]
  },
  {
   "cell_type": "code",
   "execution_count": 17,
   "id": "1f94d8da",
   "metadata": {},
   "outputs": [
    {
     "name": "stdout",
     "output_type": "stream",
     "text": [
      "valor de x:  0\n",
      "valor de x:  1\n",
      "valor de x:  2\n",
      "valor de x:  3\n",
      "valor de x:  4\n",
      "valor de x:  5\n",
      "valor de x:  6\n",
      "valor de x:  7\n",
      "valor de x:  8\n",
      "valor de x:  9\n",
      "fim\n"
     ]
    }
   ],
   "source": [
    "x = 0\n",
    "while x < 10:\n",
    "    print(\"valor de x: \",x)\n",
    "    x+=1\n",
    "    continue\n",
    "    print(\"somando +1\")\n",
    "else:\n",
    "    print(\"fim\")"
   ]
  },
  {
   "cell_type": "code",
   "execution_count": 18,
   "id": "6cb2c171",
   "metadata": {},
   "outputs": [
    {
     "name": "stdout",
     "output_type": "stream",
     "text": [
      "valor de x:  0\n"
     ]
    }
   ],
   "source": [
    "x = 0\n",
    "while x < 10:\n",
    "    print(\"valor de x: \",x)\n",
    "    x+=1\n",
    "    break\n",
    "    print(\"somando +1\")\n",
    "else:\n",
    "    print(\"fim\")"
   ]
  },
  {
   "cell_type": "markdown",
   "id": "5821e1e9",
   "metadata": {},
   "source": [
    "# 5 - Compreensão de Lista"
   ]
  },
  {
   "cell_type": "code",
   "execution_count": 21,
   "id": "9d5a1782",
   "metadata": {},
   "outputs": [
    {
     "data": {
      "text/plain": [
       "[0, 1, 2, 3, 4, 5, 6, 7, 8, 9]"
      ]
     },
     "execution_count": 21,
     "metadata": {},
     "output_type": "execute_result"
    }
   ],
   "source": [
    "lista = [x for x in range(10)]\n",
    "lista"
   ]
  },
  {
   "cell_type": "code",
   "execution_count": 24,
   "id": "0a7b94c4",
   "metadata": {},
   "outputs": [
    {
     "data": {
      "text/plain": [
       "[0, 3, 6, 9, 12, 15, 18, 21, 24, 27]"
      ]
     },
     "execution_count": 24,
     "metadata": {},
     "output_type": "execute_result"
    }
   ],
   "source": [
    "lista = [(x*3) for x in range(10)]\n",
    "lista"
   ]
  },
  {
   "cell_type": "code",
   "execution_count": 26,
   "id": "eeb16a3e",
   "metadata": {},
   "outputs": [
    {
     "data": {
      "text/plain": [
       "[0, 2, 4, 6, 8]"
      ]
     },
     "execution_count": 26,
     "metadata": {},
     "output_type": "execute_result"
    }
   ],
   "source": [
    "lista = [x for x in range(10) if x % 2 == 0]\n",
    "lista"
   ]
  },
  {
   "cell_type": "markdown",
   "id": "24faaa04",
   "metadata": {},
   "source": [
    "# 6 - Funções"
   ]
  },
  {
   "cell_type": "code",
   "execution_count": 27,
   "id": "59ab6fa1",
   "metadata": {},
   "outputs": [],
   "source": [
    "def oi():\n",
    "    print(\"SALVE MEU NOBRE\")"
   ]
  },
  {
   "cell_type": "code",
   "execution_count": 28,
   "id": "945974a5",
   "metadata": {},
   "outputs": [
    {
     "name": "stdout",
     "output_type": "stream",
     "text": [
      "SALVE MEU NOBRE\n"
     ]
    }
   ],
   "source": [
    "oi()"
   ]
  },
  {
   "cell_type": "code",
   "execution_count": 29,
   "id": "9a1af333",
   "metadata": {},
   "outputs": [],
   "source": [
    "def oi_parametro(nome):\n",
    "    print(\"SALVE\", nome, \"meu nobre\")"
   ]
  },
  {
   "cell_type": "code",
   "execution_count": 30,
   "id": "11473bd6",
   "metadata": {},
   "outputs": [
    {
     "name": "stdout",
     "output_type": "stream",
     "text": [
      "SALVE KIKO meu nobre\n"
     ]
    }
   ],
   "source": [
    "oi_parametro(\"KIKO\")"
   ]
  },
  {
   "cell_type": "code",
   "execution_count": 31,
   "id": "930d12a7",
   "metadata": {},
   "outputs": [],
   "source": [
    "def conta(x,y,z):\n",
    "    return x+y+z"
   ]
  },
  {
   "cell_type": "code",
   "execution_count": 32,
   "id": "43e5043b",
   "metadata": {},
   "outputs": [
    {
     "data": {
      "text/plain": [
       "60"
      ]
     },
     "execution_count": 32,
     "metadata": {},
     "output_type": "execute_result"
    }
   ],
   "source": [
    "conta(10,20,30)"
   ]
  },
  {
   "cell_type": "markdown",
   "id": "fbc9019a",
   "metadata": {},
   "source": [
    "# 7 - Lambda"
   ]
  },
  {
   "cell_type": "code",
   "execution_count": 33,
   "id": "55b2b867",
   "metadata": {},
   "outputs": [
    {
     "data": {
      "text/plain": [
       "8"
      ]
     },
     "execution_count": 33,
     "metadata": {},
     "output_type": "execute_result"
    }
   ],
   "source": [
    "a = lambda x: x*2\n",
    "a(4)"
   ]
  },
  {
   "cell_type": "code",
   "execution_count": 34,
   "id": "571de7ac",
   "metadata": {},
   "outputs": [
    {
     "data": {
      "text/plain": [
       "function"
      ]
     },
     "execution_count": 34,
     "metadata": {},
     "output_type": "execute_result"
    }
   ],
   "source": [
    "type(a)"
   ]
  }
 ],
 "metadata": {
  "kernelspec": {
   "display_name": "Python 3 (ipykernel)",
   "language": "python",
   "name": "python3"
  },
  "language_info": {
   "codemirror_mode": {
    "name": "ipython",
    "version": 3
   },
   "file_extension": ".py",
   "mimetype": "text/x-python",
   "name": "python",
   "nbconvert_exporter": "python",
   "pygments_lexer": "ipython3",
   "version": "3.10.9"
  }
 },
 "nbformat": 4,
 "nbformat_minor": 5
}
