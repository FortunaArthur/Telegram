{
 "cells": [
  {
   "cell_type": "markdown",
   "metadata": {},
   "source": [
    "<img src=\"https://asimov.academy/wp-content/uploads/2021/01/logo.png\" width=\"200\"/>\n",
    "_____________________________________________\n",
    "\n",
    "## Exercícios #2 - Operadores de comparação e laços\n"
   ]
  },
  {
   "cell_type": "markdown",
   "metadata": {},
   "source": [
    "### Exercício 1\n",
    "Faça um programa para a leitura de duas notas parciais de um aluno. O programa deve calcular a média alcançada por aluno e apresentar:\n",
    "- A mensagem \"Aprovado\", se a média alcançada for maior ou igual a 7;\n",
    "- A mensagem \"Reprovado\", se a média for menor do que 7;\n",
    "- A mensagem \"Aprovado com Distinção\", se a média for igual a 10."
   ]
  },
  {
   "cell_type": "code",
   "execution_count": 1,
   "metadata": {},
   "outputs": [
    {
     "name": "stdout",
     "output_type": "stream",
     "text": [
      "Informe a primeira nota do aluno: 7\n",
      "Informe a segunda nota do aluno: 6\n",
      "Reprovado!\n"
     ]
    }
   ],
   "source": [
    "n1 = float(input(\"Informe a primeira nota do aluno: \"))\n",
    "n2 = float(input(\"Informe a segunda nota do aluno: \"))\n",
    "\n",
    "media = (n1 + n2) / 2\n",
    "\n",
    "if media == 10:\n",
    "    print(\"Parabéns! Aprovado com distinção!\")\n",
    "elif media >= 7:\n",
    "    print(\"Aprovado!\")\n",
    "else: \n",
    "    print(\"Reprovado!\")"
   ]
  },
  {
   "cell_type": "markdown",
   "metadata": {},
   "source": [
    "### Exercício 2\n",
    "Escreva um script que leia três números e mostre o maior e o menor deles."
   ]
  },
  {
   "cell_type": "code",
   "execution_count": 2,
   "metadata": {},
   "outputs": [
    {
     "name": "stdout",
     "output_type": "stream",
     "text": [
      "Informe o 1º número: \n",
      "90\n",
      "Informe o 2º número: \n",
      "1\n",
      "Informe o 3º número: \n",
      "70\n",
      "O maior número é: 90\n",
      "O menor número é: 1\n"
     ]
    }
   ],
   "source": [
    "list_nums = []\n",
    "for i in range(3):\n",
    "    print(\"Informe o {}º número: \".format(i + 1))\n",
    "    x = int(input())\n",
    "    list_nums.append(x)\n",
    "\n",
    "list_nums.sort()\n",
    "print(\"O maior número é: {}\".format(list_nums[-1]))\n",
    "print(\"O menor número é: {}\".format(list_nums[0]))"
   ]
  },
  {
   "cell_type": "markdown",
   "metadata": {},
   "source": [
    "### Exercício 3 \n",
    "Nome na vertical em escada. \n",
    "\n",
    "F<br>\n",
    "FU<br>\n",
    "FUL<br>\n",
    "FULA<br>\n",
    "FULAN<br>\n",
    "FULANO<br>"
   ]
  },
  {
   "cell_type": "code",
   "execution_count": 3,
   "metadata": {},
   "outputs": [
    {
     "name": "stdout",
     "output_type": "stream",
     "text": [
      "Informe seu nome: Sanchez\n",
      "\n",
      "S\n",
      "Sa\n",
      "San\n",
      "Sanc\n",
      "Sanch\n",
      "Sanche\n",
      "Sanchez\n"
     ]
    }
   ],
   "source": [
    "nome = input(\"Informe seu nome: \")\n",
    "\n",
    "for i in range(len(nome) + 1):\n",
    "    print(nome[:i])"
   ]
  },
  {
   "cell_type": "markdown",
   "metadata": {},
   "source": [
    "### Exercício 4\n",
    "A série de Fibonacci é formada pela seqüência 1,1,2,3,5,8,13,21,34,55,... (o próximo termo, a partir do terceiro, é sempre gerado a partir do somatório dos últimos dois). Faça um programa capaz de gerar a série até o n−ésimo termo (onde o valor n deve ser inserido pelo usuário)."
   ]
  },
  {
   "cell_type": "code",
   "execution_count": 4,
   "metadata": {},
   "outputs": [
    {
     "name": "stdout",
     "output_type": "stream",
     "text": [
      "Qual o tamanho da sequência de fibonacci você deseja ver?: 80\n",
      "1\n",
      "1\n",
      "2\n",
      "3\n",
      "5\n",
      "8\n",
      "13\n",
      "21\n",
      "34\n",
      "55\n",
      "89\n",
      "144\n",
      "233\n",
      "377\n",
      "610\n",
      "987\n",
      "1597\n",
      "2584\n",
      "4181\n",
      "6765\n",
      "10946\n",
      "17711\n",
      "28657\n",
      "46368\n",
      "75025\n",
      "121393\n",
      "196418\n",
      "317811\n",
      "514229\n",
      "832040\n",
      "1346269\n",
      "2178309\n",
      "3524578\n",
      "5702887\n",
      "9227465\n",
      "14930352\n",
      "24157817\n",
      "39088169\n",
      "63245986\n",
      "102334155\n",
      "165580141\n",
      "267914296\n",
      "433494437\n",
      "701408733\n",
      "1134903170\n",
      "1836311903\n",
      "2971215073\n",
      "4807526976\n",
      "7778742049\n",
      "12586269025\n",
      "20365011074\n",
      "32951280099\n",
      "53316291173\n",
      "86267571272\n",
      "139583862445\n",
      "225851433717\n",
      "365435296162\n",
      "591286729879\n",
      "956722026041\n",
      "1548008755920\n",
      "2504730781961\n",
      "4052739537881\n",
      "6557470319842\n",
      "10610209857723\n",
      "17167680177565\n",
      "27777890035288\n",
      "44945570212853\n",
      "72723460248141\n",
      "117669030460994\n",
      "190392490709135\n",
      "308061521170129\n",
      "498454011879264\n",
      "806515533049393\n",
      "1304969544928657\n",
      "2111485077978050\n",
      "3416454622906707\n",
      "5527939700884757\n",
      "8944394323791464\n",
      "14472334024676221\n",
      "23416728348467685\n",
      "37889062373143906\n",
      "61305790721611591\n"
     ]
    }
   ],
   "source": [
    "n = int(input(\"Qual o tamanho da sequência de fibonacci você deseja ver?: \"))\n",
    "\n",
    "v0 = 0\n",
    "v1 = 1\n",
    "v = 1\n",
    "\n",
    "print(1)\n",
    "for i in range(n+1):\n",
    "    print(v)\n",
    "    v0 = v1\n",
    "    v1 = v\n",
    "    v = v1 + v0"
   ]
  },
  {
   "cell_type": "markdown",
   "metadata": {},
   "source": [
    "### Exercício 5\n",
    "Faça um programa que leia e valide as seguintes informações:\n",
    "- Nome: maior que 3 caracteres;\n",
    "- Idade: entre 0 e 150;\n",
    "- Salário: maior que zero;\n",
    "- Sexo: 'f' ou 'm';\n",
    "- Estado Civil: 's', 'c', 'v', 'd';"
   ]
  },
  {
   "cell_type": "code",
   "execution_count": 5,
   "metadata": {},
   "outputs": [
    {
     "name": "stdout",
     "output_type": "stream",
     "text": [
      "Informe o nome:\n",
      "JOOOJ\n",
      "Informe a idade:\n",
      "45\n",
      "Informe o salário:\n",
      "50\n",
      "Informe o sexo:\n",
      "m\n",
      "Informe o estado civil:\n",
      "s\n"
     ]
    }
   ],
   "source": [
    "print(\"Informe o nome:\")\n",
    "nome = input()\n",
    "while len(nome) <= 3:\n",
    "    print(\"O nome deve conter mais de 3 caracteres.\")\n",
    "    print(\"Informe o nome:\")\n",
    "    nome = input()\n",
    "    \n",
    "print(\"Informe a idade:\")\n",
    "idade = int(input())\n",
    "while (idade <= 0) or (idade >= 150):\n",
    "    print(\"A idade deve estar entre 0 e 150\")\n",
    "    print(\"Informe a idade:\")\n",
    "    idade = int(input())\n",
    "    \n",
    "print(\"Informe o salário:\")\n",
    "salario = int(input())\n",
    "while (salario <= 0):\n",
    "    print(\"A salario deve ser maior que zero.\")\n",
    "    print(\"Informe o salário:\")\n",
    "    salario = int(input())\n",
    "    \n",
    "print(\"Informe o sexo:\")\n",
    "sexo = input()\n",
    "while sexo not in [\"m\", \"f\"]:\n",
    "    print(\"O sexo deve ser 'm' ou 'f'\")\n",
    "    print(\"Informe o sexo:\")\n",
    "    sexo = input()\n",
    "\n",
    "print(\"Informe o estado civil:\")\n",
    "estado_civil = input()\n",
    "while estado_civil not in ['s', 'c', 'v', 'd']:\n",
    "    print(\"O estado civil deve ser 's', 'c', 'v', 'd'\")\n",
    "    print(\"Informe o estado civil:\")\n",
    "    estado_civil = input()"
   ]
  },
  {
   "cell_type": "markdown",
   "metadata": {},
   "source": [
    "### Exercício 6\n",
    "Faça um programa que peça um número inteiro e determine se ele é ou não um número primo. Um número primo é aquele que é divisível somente por ele mesmo e por 1. \n",
    "Dica: Utilize o operador aritmético `%`, que retorna o resto da divisão de dois números."
   ]
  },
  {
   "cell_type": "code",
   "execution_count": 6,
   "metadata": {},
   "outputs": [
    {
     "name": "stdout",
     "output_type": "stream",
     "text": [
      "Informe um número:\n",
      "7\n",
      "É primo\n"
     ]
    }
   ],
   "source": [
    "n = int(input(\"Informe um número: \"))\n",
    "\n",
    "check = 0\n",
    "\n",
    "for i in range(2, n):\n",
    "    if n % i == 0:\n",
    "        check = 1\n",
    "        break\n",
    "    \n",
    "if check == 0:\n",
    "    print(\"É primo\")\n",
    "else:\n",
    "    print(\"Não é primo\")"
   ]
  }
 ],
 "metadata": {
  "kernelspec": {
   "display_name": "Python 3 (ipykernel)",
   "language": "python",
   "name": "python3"
  },
  "language_info": {
   "codemirror_mode": {
    "name": "ipython",
    "version": 3
   },
   "file_extension": ".py",
   "mimetype": "text/x-python",
   "name": "python",
   "nbconvert_exporter": "python",
   "pygments_lexer": "ipython3",
   "version": "3.10.9"
  }
 },
 "nbformat": 4,
 "nbformat_minor": 4
}
