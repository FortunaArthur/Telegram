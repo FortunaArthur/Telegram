{
 "cells": [
  {
   "cell_type": "markdown",
   "id": "471c641e",
   "metadata": {},
   "source": [
    "# Numeros"
   ]
  },
  {
   "cell_type": "markdown",
   "id": "d6b5d153",
   "metadata": {},
   "source": [
    "## Soma"
   ]
  },
  {
   "cell_type": "code",
   "execution_count": 1,
   "id": "d12c2850",
   "metadata": {
    "ExecuteTime": {
     "end_time": "2023-01-12T10:18:58.290372Z",
     "start_time": "2023-01-12T10:18:58.283052Z"
    }
   },
   "outputs": [
    {
     "data": {
      "text/plain": [
       "2"
      ]
     },
     "execution_count": 1,
     "metadata": {},
     "output_type": "execute_result"
    }
   ],
   "source": [
    "1 + 1"
   ]
  },
  {
   "cell_type": "markdown",
   "id": "60a75102",
   "metadata": {},
   "source": [
    "## Subtração"
   ]
  },
  {
   "cell_type": "code",
   "execution_count": 2,
   "id": "b3635dbe",
   "metadata": {
    "ExecuteTime": {
     "end_time": "2023-01-12T10:19:13.632425Z",
     "start_time": "2023-01-12T10:19:13.621063Z"
    }
   },
   "outputs": [
    {
     "data": {
      "text/plain": [
       "1"
      ]
     },
     "execution_count": 2,
     "metadata": {},
     "output_type": "execute_result"
    }
   ],
   "source": [
    "2 - 1"
   ]
  },
  {
   "cell_type": "markdown",
   "id": "ed8d9485",
   "metadata": {},
   "source": [
    "## Multiplicação"
   ]
  },
  {
   "cell_type": "code",
   "execution_count": 3,
   "id": "d15201d8",
   "metadata": {
    "ExecuteTime": {
     "end_time": "2023-01-12T10:19:42.326219Z",
     "start_time": "2023-01-12T10:19:42.321278Z"
    }
   },
   "outputs": [
    {
     "data": {
      "text/plain": [
       "12"
      ]
     },
     "execution_count": 3,
     "metadata": {},
     "output_type": "execute_result"
    }
   ],
   "source": [
    "3 * 4"
   ]
  },
  {
   "cell_type": "markdown",
   "id": "0df52d15",
   "metadata": {},
   "source": [
    "## Divisão "
   ]
  },
  {
   "cell_type": "code",
   "execution_count": 4,
   "id": "9d24cbe5",
   "metadata": {
    "ExecuteTime": {
     "end_time": "2023-01-12T10:20:01.601572Z",
     "start_time": "2023-01-12T10:20:01.585333Z"
    }
   },
   "outputs": [
    {
     "data": {
      "text/plain": [
       "4.0"
      ]
     },
     "execution_count": 4,
     "metadata": {},
     "output_type": "execute_result"
    }
   ],
   "source": [
    "8 / 2"
   ]
  },
  {
   "cell_type": "markdown",
   "id": "fa7d1cde",
   "metadata": {},
   "source": [
    "## Elevar ao Quadrado"
   ]
  },
  {
   "cell_type": "code",
   "execution_count": 8,
   "id": "f228ae0b",
   "metadata": {
    "ExecuteTime": {
     "end_time": "2023-01-12T10:23:02.234154Z",
     "start_time": "2023-01-12T10:23:02.218242Z"
    }
   },
   "outputs": [
    {
     "data": {
      "text/plain": [
       "9"
      ]
     },
     "execution_count": 8,
     "metadata": {},
     "output_type": "execute_result"
    }
   ],
   "source": [
    "3 ** 2"
   ]
  },
  {
   "cell_type": "markdown",
   "id": "4dc3a80d",
   "metadata": {},
   "source": [
    "## Elevar ao Cubo"
   ]
  },
  {
   "cell_type": "code",
   "execution_count": 9,
   "id": "38612a8d",
   "metadata": {
    "ExecuteTime": {
     "end_time": "2023-01-12T10:23:16.530673Z",
     "start_time": "2023-01-12T10:23:16.516907Z"
    }
   },
   "outputs": [
    {
     "data": {
      "text/plain": [
       "27"
      ]
     },
     "execution_count": 9,
     "metadata": {},
     "output_type": "execute_result"
    }
   ],
   "source": [
    "3 ** 3"
   ]
  },
  {
   "cell_type": "markdown",
   "id": "9419baf1",
   "metadata": {},
   "source": [
    "## Raiz Quadrada"
   ]
  },
  {
   "cell_type": "code",
   "execution_count": 10,
   "id": "11ea5f47",
   "metadata": {
    "ExecuteTime": {
     "end_time": "2023-01-12T10:24:19.680623Z",
     "start_time": "2023-01-12T10:24:19.666424Z"
    }
   },
   "outputs": [
    {
     "data": {
      "text/plain": [
       "2.0"
      ]
     },
     "execution_count": 10,
     "metadata": {},
     "output_type": "execute_result"
    }
   ],
   "source": [
    "4 ** (1/2)"
   ]
  },
  {
   "cell_type": "code",
   "execution_count": 11,
   "id": "f58429b9",
   "metadata": {
    "ExecuteTime": {
     "end_time": "2023-01-12T10:24:37.124125Z",
     "start_time": "2023-01-12T10:24:37.118794Z"
    }
   },
   "outputs": [
    {
     "data": {
      "text/plain": [
       "3.0"
      ]
     },
     "execution_count": 11,
     "metadata": {},
     "output_type": "execute_result"
    }
   ],
   "source": [
    "9 ** 0.5"
   ]
  },
  {
   "cell_type": "markdown",
   "id": "cbff7928",
   "metadata": {},
   "source": [
    "## Raiz Cúbica"
   ]
  },
  {
   "cell_type": "code",
   "execution_count": 14,
   "id": "db97b838",
   "metadata": {
    "ExecuteTime": {
     "end_time": "2023-01-12T10:32:28.691952Z",
     "start_time": "2023-01-12T10:32:28.686035Z"
    }
   },
   "outputs": [
    {
     "data": {
      "text/plain": [
       "3.0"
      ]
     },
     "execution_count": 14,
     "metadata": {},
     "output_type": "execute_result"
    }
   ],
   "source": [
    "27 ** (1/3)"
   ]
  },
  {
   "cell_type": "markdown",
   "id": "2661aa9b",
   "metadata": {},
   "source": [
    "## Misturando "
   ]
  },
  {
   "cell_type": "code",
   "execution_count": 13,
   "id": "6a143505",
   "metadata": {
    "ExecuteTime": {
     "end_time": "2023-01-12T10:26:52.063294Z",
     "start_time": "2023-01-12T10:26:51.711102Z"
    }
   },
   "outputs": [
    {
     "ename": "AttributeError",
     "evalue": "'float' object has no attribute 'round'",
     "output_type": "error",
     "traceback": [
      "\u001b[0;31m---------------------------------------------------------------------------\u001b[0m",
      "\u001b[0;31mAttributeError\u001b[0m                            Traceback (most recent call last)",
      "Cell \u001b[0;32mIn[13], line 1\u001b[0m\n\u001b[0;32m----> 1\u001b[0m \u001b[43m(\u001b[49m\u001b[43m(\u001b[49m\u001b[43m(\u001b[49m\u001b[38;5;241;43m1\u001b[39;49m\u001b[43m \u001b[49m\u001b[38;5;241;43m-\u001b[39;49m\u001b[43m \u001b[49m\u001b[38;5;241;43m2\u001b[39;49m\u001b[43m \u001b[49m\u001b[38;5;241;43m+\u001b[39;49m\u001b[43m \u001b[49m\u001b[38;5;241;43m6\u001b[39;49m\u001b[43m \u001b[49m\u001b[38;5;241;43m*\u001b[39;49m\u001b[43m \u001b[49m\u001b[43m(\u001b[49m\u001b[38;5;241;43m3\u001b[39;49m\u001b[43m \u001b[49m\u001b[38;5;241;43m*\u001b[39;49m\u001b[38;5;241;43m*\u001b[39;49m\u001b[43m \u001b[49m\u001b[38;5;241;43m2\u001b[39;49m\u001b[43m)\u001b[49m\u001b[43m \u001b[49m\u001b[43m)\u001b[49m\u001b[43m \u001b[49m\u001b[38;5;241;43m/\u001b[39;49m\u001b[43m \u001b[49m\u001b[43m(\u001b[49m\u001b[38;5;241;43m25\u001b[39;49m\u001b[43m \u001b[49m\u001b[38;5;241;43m*\u001b[39;49m\u001b[38;5;241;43m*\u001b[39;49m\u001b[43m \u001b[49m\u001b[43m(\u001b[49m\u001b[38;5;241;43m1\u001b[39;49m\u001b[38;5;241;43m/\u001b[39;49m\u001b[38;5;241;43m2\u001b[39;49m\u001b[43m)\u001b[49m\u001b[43m)\u001b[49m\u001b[43m)\u001b[49m\u001b[43m \u001b[49m\u001b[38;5;241;43m*\u001b[39;49m\u001b[38;5;241;43m*\u001b[39;49m\u001b[43m \u001b[49m\u001b[38;5;241;43m3\u001b[39;49m\u001b[43m)\u001b[49m\u001b[38;5;241;43m.\u001b[39;49m\u001b[43mround\u001b[49m(\u001b[38;5;241m2\u001b[39m)\n",
      "\u001b[0;31mAttributeError\u001b[0m: 'float' object has no attribute 'round'"
     ]
    }
   ],
   "source": [
    "((1 - 2 + 6 * (3 ** 2) ) / (25 ** (1/2))) ** 3"
   ]
  },
  {
   "cell_type": "markdown",
   "id": "3ded4e9e",
   "metadata": {},
   "source": [
    "# Variaveis"
   ]
  },
  {
   "cell_type": "markdown",
   "id": "9228769c",
   "metadata": {},
   "source": [
    "### É uma Caixin"
   ]
  },
  {
   "cell_type": "code",
   "execution_count": 20,
   "id": "0587a4b9",
   "metadata": {
    "ExecuteTime": {
     "end_time": "2023-01-12T10:40:34.703331Z",
     "start_time": "2023-01-12T10:40:34.697788Z"
    }
   },
   "outputs": [
    {
     "data": {
      "text/plain": [
       "5"
      ]
     },
     "execution_count": 20,
     "metadata": {},
     "output_type": "execute_result"
    }
   ],
   "source": [
    "a = 5\n",
    "a"
   ]
  },
  {
   "cell_type": "markdown",
   "id": "51cda74c",
   "metadata": {},
   "source": [
    "## Em caso de Espaço na Variavel use Underline (_)"
   ]
  },
  {
   "cell_type": "code",
   "execution_count": 21,
   "id": "4ff9a318",
   "metadata": {
    "ExecuteTime": {
     "end_time": "2023-01-12T10:40:37.973854Z",
     "start_time": "2023-01-12T10:40:37.969211Z"
    }
   },
   "outputs": [
    {
     "data": {
      "text/plain": [
       "10"
      ]
     },
     "execution_count": 21,
     "metadata": {},
     "output_type": "execute_result"
    }
   ],
   "source": [
    "variavel_numero_um = 10\n",
    "variavel_numero_um"
   ]
  },
  {
   "cell_type": "markdown",
   "id": "976cf7a6",
   "metadata": {},
   "source": [
    "## Variaveis Podem Interargir com Outras Variaveis"
   ]
  },
  {
   "cell_type": "code",
   "execution_count": 18,
   "id": "f7d6f36f",
   "metadata": {
    "ExecuteTime": {
     "end_time": "2023-01-12T10:38:07.608828Z",
     "start_time": "2023-01-12T10:38:07.603902Z"
    }
   },
   "outputs": [
    {
     "data": {
      "text/plain": [
       "15"
      ]
     },
     "execution_count": 18,
     "metadata": {},
     "output_type": "execute_result"
    }
   ],
   "source": [
    "variavel_numero_um + a"
   ]
  },
  {
   "cell_type": "markdown",
   "id": "26eea635",
   "metadata": {},
   "source": [
    "## Nova Varivel Subscrevendo a Antiga"
   ]
  },
  {
   "cell_type": "code",
   "execution_count": 19,
   "id": "bdadc6bd",
   "metadata": {
    "ExecuteTime": {
     "end_time": "2023-01-12T10:40:08.091863Z",
     "start_time": "2023-01-12T10:40:08.085241Z"
    }
   },
   "outputs": [
    {
     "data": {
      "text/plain": [
       "10"
      ]
     },
     "execution_count": 19,
     "metadata": {},
     "output_type": "execute_result"
    }
   ],
   "source": [
    "Terceira_Ordem = variavel_numero_um\n",
    "Terceira_Ordem"
   ]
  },
  {
   "cell_type": "markdown",
   "id": "fde1b239",
   "metadata": {},
   "source": [
    "## Atribuir Valor a Mesma Variavel"
   ]
  },
  {
   "cell_type": "code",
   "execution_count": 22,
   "id": "300b667b",
   "metadata": {
    "ExecuteTime": {
     "end_time": "2023-01-12T10:41:51.100391Z",
     "start_time": "2023-01-12T10:41:51.096311Z"
    }
   },
   "outputs": [
    {
     "data": {
      "text/plain": [
       "25"
      ]
     },
     "execution_count": 22,
     "metadata": {},
     "output_type": "execute_result"
    }
   ],
   "source": [
    "a = a ** 2\n",
    "a"
   ]
  }
 ],
 "metadata": {
  "kernelspec": {
   "display_name": "Python 3 (ipykernel)",
   "language": "python",
   "name": "python3"
  },
  "language_info": {
   "codemirror_mode": {
    "name": "ipython",
    "version": 3
   },
   "file_extension": ".py",
   "mimetype": "text/x-python",
   "name": "python",
   "nbconvert_exporter": "python",
   "pygments_lexer": "ipython3",
   "version": "3.10.6"
  },
  "toc": {
   "base_numbering": 1,
   "nav_menu": {},
   "number_sections": true,
   "sideBar": true,
   "skip_h1_title": false,
   "title_cell": "Table of Contents",
   "title_sidebar": "Contents",
   "toc_cell": false,
   "toc_position": {},
   "toc_section_display": true,
   "toc_window_display": false
  },
  "varInspector": {
   "cols": {
    "lenName": 16,
    "lenType": 16,
    "lenVar": 40
   },
   "kernels_config": {
    "python": {
     "delete_cmd_postfix": "",
     "delete_cmd_prefix": "del ",
     "library": "var_list.py",
     "varRefreshCmd": "print(var_dic_list())"
    },
    "r": {
     "delete_cmd_postfix": ") ",
     "delete_cmd_prefix": "rm(",
     "library": "var_list.r",
     "varRefreshCmd": "cat(var_dic_list()) "
    }
   },
   "types_to_exclude": [
    "module",
    "function",
    "builtin_function_or_method",
    "instance",
    "_Feature"
   ],
   "window_display": false
  }
 },
 "nbformat": 4,
 "nbformat_minor": 5
}
