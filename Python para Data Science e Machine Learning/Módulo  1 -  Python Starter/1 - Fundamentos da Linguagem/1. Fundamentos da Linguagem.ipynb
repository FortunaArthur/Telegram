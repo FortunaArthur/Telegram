{
 "cells": [
  {
   "cell_type": "markdown",
   "id": "00d37f98",
   "metadata": {},
   "source": [
    "# Numeros"
   ]
  },
  {
   "cell_type": "markdown",
   "id": "fe0f8740",
   "metadata": {},
   "source": [
    "## Soma"
   ]
  },
  {
   "cell_type": "code",
   "execution_count": 1,
   "id": "b2c84e9b",
   "metadata": {
    "ExecuteTime": {
     "end_time": "2023-02-24T09:08:12.121054Z",
     "start_time": "2023-02-24T09:08:12.112151Z"
    }
   },
   "outputs": [
    {
     "data": {
      "text/plain": [
       "2"
      ]
     },
     "execution_count": 1,
     "metadata": {},
     "output_type": "execute_result"
    }
   ],
   "source": [
    "1 + 1"
   ]
  },
  {
   "cell_type": "markdown",
   "id": "9d1b2b00",
   "metadata": {},
   "source": [
    "## Subtração"
   ]
  },
  {
   "cell_type": "code",
   "execution_count": 2,
   "id": "5ac7483a",
   "metadata": {
    "ExecuteTime": {
     "end_time": "2023-02-24T09:08:12.320406Z",
     "start_time": "2023-02-24T09:08:12.128309Z"
    }
   },
   "outputs": [
    {
     "data": {
      "text/plain": [
       "1"
      ]
     },
     "execution_count": 2,
     "metadata": {},
     "output_type": "execute_result"
    }
   ],
   "source": [
    "2 - 1"
   ]
  },
  {
   "cell_type": "markdown",
   "id": "0b0072ba",
   "metadata": {},
   "source": [
    "## Multiplicação"
   ]
  },
  {
   "cell_type": "code",
   "execution_count": 3,
   "id": "61032f5d",
   "metadata": {
    "ExecuteTime": {
     "end_time": "2023-02-24T09:08:12.454308Z",
     "start_time": "2023-02-24T09:08:12.324287Z"
    }
   },
   "outputs": [
    {
     "data": {
      "text/plain": [
       "12"
      ]
     },
     "execution_count": 3,
     "metadata": {},
     "output_type": "execute_result"
    }
   ],
   "source": [
    "3 * 4"
   ]
  },
  {
   "cell_type": "markdown",
   "id": "544005b2",
   "metadata": {},
   "source": [
    "## Divisão "
   ]
  },
  {
   "cell_type": "code",
   "execution_count": 4,
   "id": "79c075b6",
   "metadata": {
    "ExecuteTime": {
     "end_time": "2023-02-24T09:08:12.607530Z",
     "start_time": "2023-02-24T09:08:12.456995Z"
    }
   },
   "outputs": [
    {
     "data": {
      "text/plain": [
       "4.0"
      ]
     },
     "execution_count": 4,
     "metadata": {},
     "output_type": "execute_result"
    }
   ],
   "source": [
    "8 / 2"
   ]
  },
  {
   "cell_type": "markdown",
   "id": "45d2f21d",
   "metadata": {},
   "source": [
    "## Elevar ao Quadrado"
   ]
  },
  {
   "cell_type": "code",
   "execution_count": 5,
   "id": "573a05c1",
   "metadata": {
    "ExecuteTime": {
     "end_time": "2023-02-24T09:08:12.741051Z",
     "start_time": "2023-02-24T09:08:12.610368Z"
    }
   },
   "outputs": [
    {
     "data": {
      "text/plain": [
       "9"
      ]
     },
     "execution_count": 5,
     "metadata": {},
     "output_type": "execute_result"
    }
   ],
   "source": [
    "3 ** 2"
   ]
  },
  {
   "cell_type": "markdown",
   "id": "86fca144",
   "metadata": {},
   "source": [
    "## Elevar ao Cubo"
   ]
  },
  {
   "cell_type": "code",
   "execution_count": 6,
   "id": "088ca6a9",
   "metadata": {
    "ExecuteTime": {
     "end_time": "2023-02-24T09:08:12.873755Z",
     "start_time": "2023-02-24T09:08:12.746347Z"
    }
   },
   "outputs": [
    {
     "data": {
      "text/plain": [
       "27"
      ]
     },
     "execution_count": 6,
     "metadata": {},
     "output_type": "execute_result"
    }
   ],
   "source": [
    "3 ** 3"
   ]
  },
  {
   "cell_type": "markdown",
   "id": "668073f7",
   "metadata": {},
   "source": [
    "## Raiz Quadrada"
   ]
  },
  {
   "cell_type": "code",
   "execution_count": 7,
   "id": "1e4ac33d",
   "metadata": {
    "ExecuteTime": {
     "end_time": "2023-02-24T09:08:12.997045Z",
     "start_time": "2023-02-24T09:08:12.876584Z"
    }
   },
   "outputs": [
    {
     "data": {
      "text/plain": [
       "2.0"
      ]
     },
     "execution_count": 7,
     "metadata": {},
     "output_type": "execute_result"
    }
   ],
   "source": [
    "4 ** (1/2)"
   ]
  },
  {
   "cell_type": "code",
   "execution_count": 8,
   "id": "46387912",
   "metadata": {
    "ExecuteTime": {
     "end_time": "2023-02-24T09:08:13.129638Z",
     "start_time": "2023-02-24T09:08:12.999977Z"
    }
   },
   "outputs": [
    {
     "data": {
      "text/plain": [
       "3.0"
      ]
     },
     "execution_count": 8,
     "metadata": {},
     "output_type": "execute_result"
    }
   ],
   "source": [
    "9 ** 0.5"
   ]
  },
  {
   "cell_type": "markdown",
   "id": "fe2b531c",
   "metadata": {},
   "source": [
    "## Raiz Cúbica"
   ]
  },
  {
   "cell_type": "code",
   "execution_count": 9,
   "id": "996a27ad",
   "metadata": {
    "ExecuteTime": {
     "end_time": "2023-02-24T09:08:13.263069Z",
     "start_time": "2023-02-24T09:08:13.132929Z"
    }
   },
   "outputs": [
    {
     "data": {
      "text/plain": [
       "3.0"
      ]
     },
     "execution_count": 9,
     "metadata": {},
     "output_type": "execute_result"
    }
   ],
   "source": [
    "27 ** (1/3)"
   ]
  },
  {
   "cell_type": "markdown",
   "id": "7fe64391",
   "metadata": {},
   "source": [
    "## Misturando "
   ]
  },
  {
   "cell_type": "code",
   "execution_count": 10,
   "id": "0fa8ba05",
   "metadata": {
    "ExecuteTime": {
     "end_time": "2023-02-24T09:08:13.373609Z",
     "start_time": "2023-02-24T09:08:13.266365Z"
    }
   },
   "outputs": [
    {
     "data": {
      "text/plain": [
       "1191.0159999999998"
      ]
     },
     "execution_count": 10,
     "metadata": {},
     "output_type": "execute_result"
    }
   ],
   "source": [
    "((1 - 2 + 6 * (3 ** 2) ) / (25 ** (1/2))) ** 3"
   ]
  },
  {
   "cell_type": "markdown",
   "id": "822c6b66",
   "metadata": {},
   "source": [
    "# Variaveis"
   ]
  },
  {
   "cell_type": "markdown",
   "id": "8f36c4ff",
   "metadata": {},
   "source": [
    "### É uma Caixinha que vai Guardar Informaões que lá Forem Colocadas"
   ]
  },
  {
   "cell_type": "code",
   "execution_count": 11,
   "id": "b758a63b",
   "metadata": {
    "ExecuteTime": {
     "end_time": "2023-02-24T09:08:13.506372Z",
     "start_time": "2023-02-24T09:08:13.375988Z"
    }
   },
   "outputs": [
    {
     "data": {
      "text/plain": [
       "5"
      ]
     },
     "execution_count": 11,
     "metadata": {},
     "output_type": "execute_result"
    }
   ],
   "source": [
    "a = 5\n",
    "a"
   ]
  },
  {
   "cell_type": "markdown",
   "id": "40b7f70e",
   "metadata": {},
   "source": [
    "## Em caso de Espaço na Variavel use Underline (_)"
   ]
  },
  {
   "cell_type": "code",
   "execution_count": null,
   "id": "70027bd5",
   "metadata": {
    "ExecuteTime": {
     "end_time": "2023-02-24T09:08:13.629049Z",
     "start_time": "2023-02-24T09:08:13.509322Z"
    }
   },
   "outputs": [
    {
     "ename": "",
     "evalue": "",
     "output_type": "error",
     "traceback": [
      "\u001b[1;31mFalha ao iniciar o Kernel. \n",
      "\u001b[1;31mUnable to start Kernel 'Python 3.11.3' due to connection timeout. \n",
      "\u001b[1;31mView Jupyter <a href='command:jupyter.viewOutput'>log</a> for further details."
     ]
    }
   ],
   "source": [
    "variavel_numero_um = 10\n",
    "variavel_numero_um"
   ]
  },
  {
   "cell_type": "markdown",
   "id": "e513f45b",
   "metadata": {},
   "source": [
    "## Variaveis Podem Interargir com Outras Variaveis"
   ]
  },
  {
   "cell_type": "code",
   "execution_count": 13,
   "id": "285a20a7",
   "metadata": {
    "ExecuteTime": {
     "end_time": "2023-02-24T09:08:13.740183Z",
     "start_time": "2023-02-24T09:08:13.632060Z"
    }
   },
   "outputs": [
    {
     "data": {
      "text/plain": [
       "15"
      ]
     },
     "execution_count": 13,
     "metadata": {},
     "output_type": "execute_result"
    }
   ],
   "source": [
    "variavel_numero_um + a"
   ]
  },
  {
   "cell_type": "markdown",
   "id": "d0418da4",
   "metadata": {},
   "source": [
    "## Nova Varivel Subscrevendo a Antiga"
   ]
  },
  {
   "cell_type": "code",
   "execution_count": 14,
   "id": "a7b6ad2c",
   "metadata": {
    "ExecuteTime": {
     "end_time": "2023-02-24T09:08:13.850879Z",
     "start_time": "2023-02-24T09:08:13.742098Z"
    }
   },
   "outputs": [
    {
     "data": {
      "text/plain": [
       "10"
      ]
     },
     "execution_count": 14,
     "metadata": {},
     "output_type": "execute_result"
    }
   ],
   "source": [
    "Terceira_Ordem = variavel_numero_um\n",
    "Terceira_Ordem"
   ]
  },
  {
   "cell_type": "markdown",
   "id": "45ca0fac",
   "metadata": {},
   "source": [
    "## Atribuir Valor a Mesma Variavel"
   ]
  },
  {
   "cell_type": "code",
   "execution_count": 15,
   "id": "52599f3f",
   "metadata": {
    "ExecuteTime": {
     "end_time": "2023-02-24T09:08:13.963033Z",
     "start_time": "2023-02-24T09:08:13.859706Z"
    }
   },
   "outputs": [
    {
     "data": {
      "text/plain": [
       "25"
      ]
     },
     "execution_count": 15,
     "metadata": {},
     "output_type": "execute_result"
    }
   ],
   "source": [
    "a = a ** 2\n",
    "a"
   ]
  },
  {
   "cell_type": "markdown",
   "id": "578df8dd",
   "metadata": {},
   "source": [
    "# Strings"
   ]
  },
  {
   "cell_type": "code",
   "execution_count": 16,
   "id": "8f9593e5",
   "metadata": {
    "ExecuteTime": {
     "end_time": "2023-02-24T09:08:14.072512Z",
     "start_time": "2023-02-24T09:08:13.968797Z"
    }
   },
   "outputs": [
    {
     "data": {
      "text/plain": [
       "'SALVE GARAI'"
      ]
     },
     "execution_count": 16,
     "metadata": {},
     "output_type": "execute_result"
    }
   ],
   "source": [
    "minha_string = 'SALVE GARAI'\n",
    "minha_string"
   ]
  },
  {
   "cell_type": "code",
   "execution_count": 17,
   "id": "19ab90d2",
   "metadata": {
    "ExecuteTime": {
     "end_time": "2023-02-24T09:08:14.296117Z",
     "start_time": "2023-02-24T09:08:14.075587Z"
    }
   },
   "outputs": [
    {
     "data": {
      "text/plain": [
       "'SALVE GARAI 2'"
      ]
     },
     "execution_count": 17,
     "metadata": {},
     "output_type": "execute_result"
    }
   ],
   "source": [
    "outra_string = \"SALVE GARAI 2\"\n",
    "outra_string"
   ]
  },
  {
   "cell_type": "markdown",
   "id": "db1e9e87",
   "metadata": {},
   "source": [
    "## No Jupyter ele ja mostra a string entre '' simples, pra mostrar sem elas é so dar print"
   ]
  },
  {
   "cell_type": "code",
   "execution_count": 18,
   "id": "388ee7e0",
   "metadata": {
    "ExecuteTime": {
     "end_time": "2023-02-24T09:08:14.415688Z",
     "start_time": "2023-02-24T09:08:14.303271Z"
    }
   },
   "outputs": [
    {
     "name": "stdout",
     "output_type": "stream",
     "text": [
      "isto é uma string com \"AXPAS DUBLAS\"\n"
     ]
    }
   ],
   "source": [
    "printando = 'isto é uma string com \"AXPAS DUBLAS\"' \n",
    "print(printando)"
   ]
  },
  {
   "cell_type": "markdown",
   "id": "f65597df",
   "metadata": {},
   "source": [
    "## Tamanho de uma String (Len)"
   ]
  },
  {
   "cell_type": "code",
   "execution_count": 19,
   "id": "2b969865",
   "metadata": {
    "ExecuteTime": {
     "end_time": "2023-02-24T09:08:14.537937Z",
     "start_time": "2023-02-24T09:08:14.418089Z"
    }
   },
   "outputs": [
    {
     "data": {
      "text/plain": [
       "36"
      ]
     },
     "execution_count": 19,
     "metadata": {},
     "output_type": "execute_result"
    }
   ],
   "source": [
    "len(printando)"
   ]
  },
  {
   "cell_type": "markdown",
   "id": "b7d3d817",
   "metadata": {},
   "source": [
    "## Concatenação de Strings"
   ]
  },
  {
   "cell_type": "code",
   "execution_count": 20,
   "id": "8f0d0ca1",
   "metadata": {
    "ExecuteTime": {
     "end_time": "2023-02-24T09:08:14.672812Z",
     "start_time": "2023-02-24T09:08:14.540421Z"
    }
   },
   "outputs": [
    {
     "data": {
      "text/plain": [
       "'isto é uma string com \"AXPAS DUBLAS\" AMENDO BOBOS SALVE GARAI'"
      ]
     },
     "execution_count": 20,
     "metadata": {},
     "output_type": "execute_result"
    }
   ],
   "source": [
    "printando + \" AMENDO BOBOS \" + minha_string"
   ]
  },
  {
   "cell_type": "markdown",
   "id": "f334a952",
   "metadata": {},
   "source": [
    "## Contagem da String & Indexação"
   ]
  },
  {
   "cell_type": "code",
   "execution_count": 21,
   "id": "af7f09fc",
   "metadata": {
    "ExecuteTime": {
     "end_time": "2023-02-24T09:08:14.792887Z",
     "start_time": "2023-02-24T09:08:14.676151Z"
    }
   },
   "outputs": [
    {
     "data": {
      "text/plain": [
       "'S'"
      ]
     },
     "execution_count": 21,
     "metadata": {},
     "output_type": "execute_result"
    }
   ],
   "source": [
    "minha_string[0]"
   ]
  },
  {
   "cell_type": "code",
   "execution_count": 22,
   "id": "94943817",
   "metadata": {
    "ExecuteTime": {
     "end_time": "2023-02-24T09:08:14.926154Z",
     "start_time": "2023-02-24T09:08:14.796071Z"
    }
   },
   "outputs": [
    {
     "data": {
      "text/plain": [
       "'ALVE '"
      ]
     },
     "execution_count": 22,
     "metadata": {},
     "output_type": "execute_result"
    }
   ],
   "source": [
    "minha_string[1:6]"
   ]
  },
  {
   "cell_type": "code",
   "execution_count": 23,
   "id": "2b39bcbd",
   "metadata": {
    "ExecuteTime": {
     "end_time": "2023-02-24T09:08:15.038858Z",
     "start_time": "2023-02-24T09:08:14.929056Z"
    }
   },
   "outputs": [
    {
     "data": {
      "text/plain": [
       "'I'"
      ]
     },
     "execution_count": 23,
     "metadata": {},
     "output_type": "execute_result"
    }
   ],
   "source": [
    "minha_string[-1]"
   ]
  },
  {
   "cell_type": "code",
   "execution_count": 24,
   "id": "85ec7cff",
   "metadata": {
    "ExecuteTime": {
     "end_time": "2023-02-24T09:08:15.170925Z",
     "start_time": "2023-02-24T09:08:15.040801Z"
    }
   },
   "outputs": [
    {
     "data": {
      "text/plain": [
       "'G'"
      ]
     },
     "execution_count": 24,
     "metadata": {},
     "output_type": "execute_result"
    }
   ],
   "source": [
    "minha_string[-5]"
   ]
  },
  {
   "cell_type": "code",
   "execution_count": 25,
   "id": "1bac60f8",
   "metadata": {
    "ExecuteTime": {
     "end_time": "2023-02-24T09:08:15.303873Z",
     "start_time": "2023-02-24T09:08:15.173582Z"
    }
   },
   "outputs": [
    {
     "data": {
      "text/plain": [
       "'SALVE GARA'"
      ]
     },
     "execution_count": 25,
     "metadata": {},
     "output_type": "execute_result"
    }
   ],
   "source": [
    "minha_string[:-1]"
   ]
  },
  {
   "cell_type": "code",
   "execution_count": 26,
   "id": "6aec5efa",
   "metadata": {
    "ExecuteTime": {
     "end_time": "2023-02-24T09:08:15.484552Z",
     "start_time": "2023-02-24T09:08:15.306536Z"
    }
   },
   "outputs": [
    {
     "data": {
      "text/plain": [
       "'SLEGRI'"
      ]
     },
     "execution_count": 26,
     "metadata": {},
     "output_type": "execute_result"
    }
   ],
   "source": [
    "minha_string[::2]"
   ]
  },
  {
   "cell_type": "code",
   "execution_count": 27,
   "id": "ffd71c88",
   "metadata": {
    "ExecuteTime": {
     "end_time": "2023-02-24T09:08:15.592182Z",
     "start_time": "2023-02-24T09:08:15.486642Z"
    }
   },
   "outputs": [
    {
     "data": {
      "text/plain": [
       "'IARAG EVLAS'"
      ]
     },
     "execution_count": 27,
     "metadata": {},
     "output_type": "execute_result"
    }
   ],
   "source": [
    "minha_string[::-1]"
   ]
  },
  {
   "cell_type": "markdown",
   "id": "f4d9b81c",
   "metadata": {},
   "source": [
    "# Propriedades & Métodos de Strings"
   ]
  },
  {
   "cell_type": "markdown",
   "id": "21a7e22c",
   "metadata": {},
   "source": [
    "## Isso Não Pode Fazer"
   ]
  },
  {
   "cell_type": "code",
   "execution_count": 32,
   "id": "e76d3ceb",
   "metadata": {
    "ExecuteTime": {
     "end_time": "2023-02-24T09:12:44.511061Z",
     "start_time": "2023-02-24T09:12:44.488053Z"
    }
   },
   "outputs": [
    {
     "ename": "TypeError",
     "evalue": "'str' object does not support item assignment",
     "output_type": "error",
     "traceback": [
      "\u001b[0;31m---------------------------------------------------------------------------\u001b[0m",
      "\u001b[0;31mTypeError\u001b[0m                                 Traceback (most recent call last)",
      "Cell \u001b[0;32mIn[32], line 1\u001b[0m\n\u001b[0;32m----> 1\u001b[0m \u001b[43mminha_string\u001b[49m\u001b[43m[\u001b[49m\u001b[38;5;241;43m0\u001b[39;49m\u001b[43m]\u001b[49m \u001b[38;5;241m=\u001b[39m \u001b[38;5;124m'\u001b[39m\u001b[38;5;124mY\u001b[39m\u001b[38;5;124m'\u001b[39m\n",
      "\u001b[0;31mTypeError\u001b[0m: 'str' object does not support item assignment"
     ]
    }
   ],
   "source": [
    "minha_string[0] = 'Y'"
   ]
  },
  {
   "cell_type": "markdown",
   "id": "2489b486",
   "metadata": {},
   "source": [
    "## Só Q isso aki pode"
   ]
  },
  {
   "cell_type": "code",
   "execution_count": 29,
   "id": "528b102b",
   "metadata": {
    "ExecuteTime": {
     "end_time": "2023-02-24T09:10:18.560698Z",
     "start_time": "2023-02-24T09:10:18.555636Z"
    }
   },
   "outputs": [
    {
     "data": {
      "text/plain": [
       "'aaaaaaaaaa'"
      ]
     },
     "execution_count": 29,
     "metadata": {},
     "output_type": "execute_result"
    }
   ],
   "source": [
    "'a' * 10"
   ]
  },
  {
   "cell_type": "code",
   "execution_count": 31,
   "id": "a2a69336",
   "metadata": {
    "ExecuteTime": {
     "end_time": "2023-02-24T09:11:13.902128Z",
     "start_time": "2023-02-24T09:11:13.896344Z"
    }
   },
   "outputs": [
    {
     "data": {
      "text/plain": [
       "str"
      ]
     },
     "execution_count": 31,
     "metadata": {},
     "output_type": "execute_result"
    }
   ],
   "source": [
    "type('a')"
   ]
  },
  {
   "cell_type": "markdown",
   "id": "327961bd",
   "metadata": {},
   "source": [
    "## Metodos Embutidos nas Strings"
   ]
  },
  {
   "cell_type": "code",
   "execution_count": 33,
   "id": "7bf48815",
   "metadata": {
    "ExecuteTime": {
     "end_time": "2023-02-24T09:13:30.088805Z",
     "start_time": "2023-02-24T09:13:30.080779Z"
    }
   },
   "outputs": [
    {
     "data": {
      "text/plain": [
       "['__add__',\n",
       " '__class__',\n",
       " '__contains__',\n",
       " '__delattr__',\n",
       " '__dir__',\n",
       " '__doc__',\n",
       " '__eq__',\n",
       " '__format__',\n",
       " '__ge__',\n",
       " '__getattribute__',\n",
       " '__getitem__',\n",
       " '__getnewargs__',\n",
       " '__gt__',\n",
       " '__hash__',\n",
       " '__init__',\n",
       " '__init_subclass__',\n",
       " '__iter__',\n",
       " '__le__',\n",
       " '__len__',\n",
       " '__lt__',\n",
       " '__mod__',\n",
       " '__mul__',\n",
       " '__ne__',\n",
       " '__new__',\n",
       " '__reduce__',\n",
       " '__reduce_ex__',\n",
       " '__repr__',\n",
       " '__rmod__',\n",
       " '__rmul__',\n",
       " '__setattr__',\n",
       " '__sizeof__',\n",
       " '__str__',\n",
       " '__subclasshook__',\n",
       " 'capitalize',\n",
       " 'casefold',\n",
       " 'center',\n",
       " 'count',\n",
       " 'encode',\n",
       " 'endswith',\n",
       " 'expandtabs',\n",
       " 'find',\n",
       " 'format',\n",
       " 'format_map',\n",
       " 'index',\n",
       " 'isalnum',\n",
       " 'isalpha',\n",
       " 'isascii',\n",
       " 'isdecimal',\n",
       " 'isdigit',\n",
       " 'isidentifier',\n",
       " 'islower',\n",
       " 'isnumeric',\n",
       " 'isprintable',\n",
       " 'isspace',\n",
       " 'istitle',\n",
       " 'isupper',\n",
       " 'join',\n",
       " 'ljust',\n",
       " 'lower',\n",
       " 'lstrip',\n",
       " 'maketrans',\n",
       " 'partition',\n",
       " 'removeprefix',\n",
       " 'removesuffix',\n",
       " 'replace',\n",
       " 'rfind',\n",
       " 'rindex',\n",
       " 'rjust',\n",
       " 'rpartition',\n",
       " 'rsplit',\n",
       " 'rstrip',\n",
       " 'split',\n",
       " 'splitlines',\n",
       " 'startswith',\n",
       " 'strip',\n",
       " 'swapcase',\n",
       " 'title',\n",
       " 'translate',\n",
       " 'upper',\n",
       " 'zfill']"
      ]
     },
     "execution_count": 33,
     "metadata": {},
     "output_type": "execute_result"
    }
   ],
   "source": [
    "dir('SALVE')"
   ]
  },
  {
   "cell_type": "code",
   "execution_count": 34,
   "id": "e51d5511",
   "metadata": {
    "ExecuteTime": {
     "end_time": "2023-02-24T09:13:53.469277Z",
     "start_time": "2023-02-24T09:13:53.460010Z"
    }
   },
   "outputs": [
    {
     "data": {
      "text/plain": [
       "'salve'"
      ]
     },
     "execution_count": 34,
     "metadata": {},
     "output_type": "execute_result"
    }
   ],
   "source": [
    "'SALVE'.lower()"
   ]
  },
  {
   "cell_type": "code",
   "execution_count": 35,
   "id": "056a9886",
   "metadata": {
    "ExecuteTime": {
     "end_time": "2023-02-24T09:14:15.890643Z",
     "start_time": "2023-02-24T09:14:15.884639Z"
    }
   },
   "outputs": [
    {
     "data": {
      "text/plain": [
       "'SALVE'"
      ]
     },
     "execution_count": 35,
     "metadata": {},
     "output_type": "execute_result"
    }
   ],
   "source": [
    "'salve'.upper()"
   ]
  },
  {
   "cell_type": "code",
   "execution_count": 36,
   "id": "c7daf95b",
   "metadata": {
    "ExecuteTime": {
     "end_time": "2023-02-24T09:15:03.592866Z",
     "start_time": "2023-02-24T09:15:03.587012Z"
    }
   },
   "outputs": [
    {
     "data": {
      "text/plain": [
       "['Salve']"
      ]
     },
     "execution_count": 36,
     "metadata": {},
     "output_type": "execute_result"
    }
   ],
   "source": [
    "'Salve'.split()"
   ]
  },
  {
   "cell_type": "code",
   "execution_count": 37,
   "id": "00b25a21",
   "metadata": {
    "ExecuteTime": {
     "end_time": "2023-02-24T09:15:22.727573Z",
     "start_time": "2023-02-24T09:15:22.722781Z"
    }
   },
   "outputs": [
    {
     "data": {
      "text/plain": [
       "['S', 'lve']"
      ]
     },
     "execution_count": 37,
     "metadata": {},
     "output_type": "execute_result"
    }
   ],
   "source": [
    "'Salve'.split('a')"
   ]
  },
  {
   "cell_type": "code",
   "execution_count": 38,
   "id": "90b3d53a",
   "metadata": {
    "ExecuteTime": {
     "end_time": "2023-02-24T09:17:03.759835Z",
     "start_time": "2023-02-24T09:17:03.750646Z"
    }
   },
   "outputs": [
    {
     "data": {
      "text/plain": [
       "'A IDADE DESTE LARÁPIO É DE 20 ANOS DE PERDA DE SANIDADE'"
      ]
     },
     "execution_count": 38,
     "metadata": {},
     "output_type": "execute_result"
    }
   ],
   "source": [
    "idade = 20\n",
    "'A IDADE DESTE LARÁPIO É DE {} ANOS DE PERDA DE SANIDADE'.format(idade)"
   ]
  }
 ],
 "metadata": {
  "kernelspec": {
   "display_name": "Python 3 (ipykernel)",
   "language": "python",
   "name": "python3"
  },
  "language_info": {
   "codemirror_mode": {
    "name": "ipython",
    "version": 3
   },
   "file_extension": ".py",
   "mimetype": "text/x-python",
   "name": "python",
   "nbconvert_exporter": "python",
   "pygments_lexer": "ipython3",
   "version": "3.11.3"
  },
  "toc": {
   "base_numbering": 1,
   "nav_menu": {},
   "number_sections": true,
   "sideBar": true,
   "skip_h1_title": false,
   "title_cell": "Table of Contents",
   "title_sidebar": "Contents",
   "toc_cell": false,
   "toc_position": {},
   "toc_section_display": true,
   "toc_window_display": false
  },
  "varInspector": {
   "cols": {
    "lenName": 16,
    "lenType": 16,
    "lenVar": 40
   },
   "kernels_config": {
    "python": {
     "delete_cmd_postfix": "",
     "delete_cmd_prefix": "del ",
     "library": "var_list.py",
     "varRefreshCmd": "print(var_dic_list())"
    },
    "r": {
     "delete_cmd_postfix": ") ",
     "delete_cmd_prefix": "rm(",
     "library": "var_list.r",
     "varRefreshCmd": "cat(var_dic_list()) "
    }
   },
   "types_to_exclude": [
    "module",
    "function",
    "builtin_function_or_method",
    "instance",
    "_Feature"
   ],
   "window_display": false
  }
 },
 "nbformat": 4,
 "nbformat_minor": 5
}
