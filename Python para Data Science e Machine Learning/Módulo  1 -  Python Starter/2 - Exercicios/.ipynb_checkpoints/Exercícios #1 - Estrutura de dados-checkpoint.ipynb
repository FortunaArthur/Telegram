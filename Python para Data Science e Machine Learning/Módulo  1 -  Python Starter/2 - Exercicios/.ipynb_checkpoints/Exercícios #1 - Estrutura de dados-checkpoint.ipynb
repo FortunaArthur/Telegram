{
 "cells": [
  {
   "cell_type": "markdown",
   "metadata": {},
   "source": [
    "<img src=\"https://asimov.academy/wp-content/uploads/2021/01/logo.png\" width=\"200\"/>\n",
    "_____________________________________________\n",
    "\n",
    "## Exercícios #1 - Estruturas de dados\n"
   ]
  },
  {
   "cell_type": "markdown",
   "metadata": {},
   "source": [
    "### Exercício 1\n",
    "Utilizando o built-in method input(), crie um programa que receba a altura e o peso de uma pessoa e imprima na tela o IMC da mesma."
   ]
  },
  {
   "cell_type": "code",
   "execution_count": 8,
   "metadata": {},
   "outputs": [
    {
     "name": "stdout",
     "output_type": "stream",
     "text": [
      "Digite sua altura em metros: 1.76\n",
      "Digite seu peso em Kg: 74\n",
      "Seu IMC é: 23.89\n",
      "Saudável\n"
     ]
    }
   ],
   "source": [
    "altura = float(input(\"Digite sua altura em metros: \"))\n",
    "peso = float(input(\"Digite seu peso em Kg: \"))\n",
    "imc = peso / altura**2\n",
    "print(\"Seu IMC é: %.2f\" % imc)\n",
    " \n",
    "if imc < 16:\n",
    "\tprint(\"Magreza grave\")\n",
    "elif imc < 17:\n",
    "\tprint(\"Magreza moderada\")\n",
    "elif imc < 18.5:\n",
    "\tprint(\"Magreza leve\")\n",
    "elif imc < 25:\n",
    "\tprint(\"Saudável\")\n",
    "elif imc < 30:\n",
    "\tprint(\"Sobrepeso\")\n",
    "elif imc < 35:\n",
    "\tprint(\"Obesidade Grau I\")\n",
    "elif imc < 40:\n",
    "\tprint(\"Obesidade Grau II (severa)\")\n",
    "else:\n",
    "\tprint(\"Obesidade Grau III (mórbida)\")"
   ]
  },
  {
   "cell_type": "markdown",
   "metadata": {},
   "source": [
    "### Exercício 2 \n",
    "Escreva um programa que pergunte o nome completo do usuário e cumprimente o mesmo pelo primeiro nome."
   ]
  },
  {
   "cell_type": "code",
   "execution_count": 9,
   "metadata": {},
   "outputs": [
    {
     "name": "stdout",
     "output_type": "stream",
     "text": [
      "Qual seu Nome Completo?: Arthur teste teste teste\n",
      "Olá Arthur, Muita Satisfação\n"
     ]
    }
   ],
   "source": [
    "nome = input(\"Qual seu Nome Completo?: \")\n",
    "l = nome.split()\n",
    "print('Olá ' + l[0] +', Muita Satisfação')"
   ]
  },
  {
   "cell_type": "markdown",
   "metadata": {},
   "source": [
    "### Exercício 3\n",
    "Desenho um código que extraia o domínio de um e-mail informado."
   ]
  },
  {
   "cell_type": "code",
   "execution_count": 10,
   "metadata": {},
   "outputs": [
    {
     "name": "stdout",
     "output_type": "stream",
     "text": [
      "email: Teste@gmail.com\n",
      "gmail.com\n"
     ]
    }
   ],
   "source": [
    "e = input('email: ')\n",
    "a = e.split('@',1)\n",
    "l = len(a) -1\n",
    "print(a[l])"
   ]
  },
  {
   "cell_type": "markdown",
   "metadata": {},
   "source": [
    "### Exercício 4 \n",
    "Faça um programa para uma loja de tintas. A pessoa informa a área em m2 que deseja pintar, e o script calculará a quantidade de latas de tinta que a pessoa deve comprar e o valor. Considere que cada litro de tinta pinta 3m2, que cada lata contém 18L e que custa R$ 80."
   ]
  },
  {
   "cell_type": "code",
   "execution_count": 11,
   "metadata": {},
   "outputs": [
    {
     "name": "stdout",
     "output_type": "stream",
     "text": [
      "Quantos Metros Quadrados vc quer Pintar?: 90\n",
      "Para pintar 90.0m² vc vai prescisar de 1 Latas de tinta, isso vai custar 80R$\n"
     ]
    }
   ],
   "source": [
    "area = float(input('Quantos Metros Quadrados vc quer Pintar?: '))\n",
    "litros = round((area/3), 2)\n",
    "latas = int(litros/18)\n",
    "if latas == 0:\n",
    "  latas = 1\n",
    "preco = latas*80\n",
    "\n",
    "print('Para pintar {}m² vc vai prescisar de {} Latas de tinta, isso vai custar {}R$'. format(area,latas,preco))"
   ]
  },
  {
   "cell_type": "markdown",
   "metadata": {},
   "source": [
    "### Exercício 5\n",
    "Faça um Programa que pergunte quanto você ganha por hora e o número de horas trabalhadas no mês. Calcule e mostre o total do seu salário no referido mês, sabendo-se que são descontados 11% para o Imposto de Renda, 8% para o INSS e 5% para o sindicato, faça um programa que nos dê:\n",
    "1. Salário bruto.\n",
    "2. Quanto pagou ao INSS.\n",
    "3. Quanto pagou ao sindicato.\n",
    "4. O salário líquido."
   ]
  },
  {
   "cell_type": "code",
   "execution_count": 12,
   "metadata": {},
   "outputs": [
    {
     "name": "stdout",
     "output_type": "stream",
     "text": [
      "Quanto se ganha por hora?: 20\n",
      "quantas horas por mês você trabalha?:240\n",
      "Salario Bruto: 4800.0\n",
      "Renda: 528.0\n",
      "INSS: 341.76\n",
      "Sindicato: 196.512\n",
      "Salário Líquido: 3733.7279999999996\n"
     ]
    }
   ],
   "source": [
    "salario = float(input(\"Quanto se ganha por hora?: \"))\n",
    "horas = float(input(\"quantas horas por mês você trabalha?:\"))\n",
    "bruto = salario * horas\n",
    "renda = bruto - (bruto * 0.11) \n",
    "inss = renda - (renda * 0.08)\n",
    "sindicato = inss - (inss * 0.05)\n",
    "\n",
    "print(f\"Salario Bruto: {bruto}\")\n",
    "print(f\"Renda: {bruto*0.11}\")\n",
    "print(f\"INSS: {renda * 0.08}\")\n",
    "print(f\"Sindicato: {inss * 0.05}\")\n",
    "print(f\"Salário Líquido: {sindicato}\")"
   ]
  }
 ],
 "metadata": {
  "kernelspec": {
   "display_name": "Python 3 (ipykernel)",
   "language": "python",
   "name": "python3"
  },
  "language_info": {
   "codemirror_mode": {
    "name": "ipython",
    "version": 3
   },
   "file_extension": ".py",
   "mimetype": "text/x-python",
   "name": "python",
   "nbconvert_exporter": "python",
   "pygments_lexer": "ipython3",
   "version": "3.10.9"
  }
 },
 "nbformat": 4,
 "nbformat_minor": 4
}
