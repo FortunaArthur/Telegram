{
 "cells": [
  {
   "cell_type": "markdown",
   "id": "702550b7",
   "metadata": {},
   "source": [
    "# 1 - Series"
   ]
  },
  {
   "cell_type": "code",
   "execution_count": 1,
   "id": "91dbfd34",
   "metadata": {},
   "outputs": [],
   "source": [
    "import pandas as pd\n",
    "import numpy as np"
   ]
  },
  {
   "cell_type": "code",
   "execution_count": 2,
   "id": "2ce9f5ec",
   "metadata": {},
   "outputs": [],
   "source": [
    "letra = ['A','B','C']\n",
    "numero = [10, 20, 30]\n",
    "arrey = np.array([10, 20, 30])\n",
    "dicionario = {'A':10, 'B':20, 'C':30}"
   ]
  },
  {
   "cell_type": "code",
   "execution_count": 3,
   "id": "90e4dace",
   "metadata": {},
   "outputs": [
    {
     "data": {
      "text/plain": [
       "0    A\n",
       "1    B\n",
       "2    C\n",
       "dtype: object"
      ]
     },
     "execution_count": 3,
     "metadata": {},
     "output_type": "execute_result"
    }
   ],
   "source": [
    "pd.Series(letra)"
   ]
  },
  {
   "cell_type": "code",
   "execution_count": 4,
   "id": "144d3ee6",
   "metadata": {},
   "outputs": [
    {
     "data": {
      "text/plain": [
       "10    A\n",
       "20    B\n",
       "30    C\n",
       "dtype: object"
      ]
     },
     "execution_count": 4,
     "metadata": {},
     "output_type": "execute_result"
    }
   ],
   "source": [
    "pd.Series(data=letra, index=numero)"
   ]
  },
  {
   "cell_type": "code",
   "execution_count": 5,
   "id": "b7f70167",
   "metadata": {},
   "outputs": [
    {
     "data": {
      "text/plain": [
       "{'A': 10, 'B': 20, 'C': 30}"
      ]
     },
     "execution_count": 5,
     "metadata": {},
     "output_type": "execute_result"
    }
   ],
   "source": [
    "dicionario"
   ]
  },
  {
   "cell_type": "code",
   "execution_count": 6,
   "id": "d1addda7",
   "metadata": {},
   "outputs": [
    {
     "data": {
      "text/plain": [
       "A    10\n",
       "B    20\n",
       "C    30\n",
       "dtype: int64"
      ]
     },
     "execution_count": 6,
     "metadata": {},
     "output_type": "execute_result"
    }
   ],
   "source": [
    "pd.Series(dicionario)"
   ]
  },
  {
   "cell_type": "code",
   "execution_count": 7,
   "id": "d61e3f87",
   "metadata": {},
   "outputs": [
    {
     "data": {
      "text/plain": [
       "Brasil    1\n",
       "Japão     2\n",
       "Russia    3\n",
       "EUA       4\n",
       "dtype: int64"
      ]
     },
     "execution_count": 7,
     "metadata": {},
     "output_type": "execute_result"
    }
   ],
   "source": [
    "serie1 = pd.Series([1,2,3,4], index=[\"Brasil\", \"Japão\", \"Russia\", \"EUA\"])\n",
    "serie1"
   ]
  },
  {
   "cell_type": "code",
   "execution_count": 8,
   "id": "3500b0e4",
   "metadata": {},
   "outputs": [
    {
     "data": {
      "text/plain": [
       "Brasil    1\n",
       "Japão     4\n",
       "URSS      8\n",
       "EUA       0\n",
       "dtype: int64"
      ]
     },
     "execution_count": 8,
     "metadata": {},
     "output_type": "execute_result"
    }
   ],
   "source": [
    "serie2 = pd.Series([1,4,8,0], index=[\"Brasil\", \"Japão\", \"URSS\", \"EUA\"])\n",
    "serie2"
   ]
  },
  {
   "cell_type": "code",
   "execution_count": 9,
   "id": "3b1e6bdc",
   "metadata": {},
   "outputs": [
    {
     "data": {
      "text/plain": [
       "2"
      ]
     },
     "execution_count": 9,
     "metadata": {},
     "output_type": "execute_result"
    }
   ],
   "source": [
    "serie1[\"Japão\"]"
   ]
  },
  {
   "cell_type": "code",
   "execution_count": 10,
   "id": "a567cf7d",
   "metadata": {},
   "outputs": [
    {
     "data": {
      "text/plain": [
       "URSS    8\n",
       "EUA     0\n",
       "dtype: int64"
      ]
     },
     "execution_count": 10,
     "metadata": {},
     "output_type": "execute_result"
    }
   ],
   "source": [
    "serie2[[\"URSS\", \"EUA\"]]"
   ]
  },
  {
   "cell_type": "code",
   "execution_count": 11,
   "id": "dd240687",
   "metadata": {},
   "outputs": [
    {
     "data": {
      "text/plain": [
       "Brasil    2.0\n",
       "EUA       4.0\n",
       "Japão     6.0\n",
       "Russia    NaN\n",
       "URSS      NaN\n",
       "dtype: float64"
      ]
     },
     "execution_count": 11,
     "metadata": {},
     "output_type": "execute_result"
    }
   ],
   "source": [
    "serie1 + serie2"
   ]
  }
 ],
 "metadata": {
  "kernelspec": {
   "display_name": "Python 3 (ipykernel)",
   "language": "python",
   "name": "python3"
  },
  "language_info": {
   "codemirror_mode": {
    "name": "ipython",
    "version": 3
   },
   "file_extension": ".py",
   "mimetype": "text/x-python",
   "name": "python",
   "nbconvert_exporter": "python",
   "pygments_lexer": "ipython3",
   "version": "3.10.9"
  }
 },
 "nbformat": 4,
 "nbformat_minor": 5
}
