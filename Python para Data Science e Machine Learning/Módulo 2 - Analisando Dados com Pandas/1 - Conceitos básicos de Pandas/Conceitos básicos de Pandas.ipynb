{
 "cells": [
  {
   "cell_type": "markdown",
   "id": "702550b7",
   "metadata": {},
   "source": [
    "# 1 - Series"
   ]
  },
  {
   "cell_type": "code",
   "execution_count": 3,
   "id": "91dbfd34",
   "metadata": {},
   "outputs": [],
   "source": [
    "import pandas as pd\n",
    "import numpy as np"
   ]
  },
  {
   "cell_type": "code",
   "execution_count": 4,
   "id": "2ce9f5ec",
   "metadata": {},
   "outputs": [],
   "source": [
    "letra = ['A','B','C']\n",
    "numero = [10, 20, 30]\n",
    "arrey = np.array([10, 20, 30])\n",
    "dicionario = {'A':10, 'B':20, 'C':30}"
   ]
  },
  {
   "cell_type": "code",
   "execution_count": 5,
   "id": "90e4dace",
   "metadata": {},
   "outputs": [
    {
     "data": {
      "text/plain": [
       "0    A\n",
       "1    B\n",
       "2    C\n",
       "dtype: object"
      ]
     },
     "execution_count": 5,
     "metadata": {},
     "output_type": "execute_result"
    }
   ],
   "source": [
    "pd.Series(letra)"
   ]
  }
 ],
 "metadata": {
  "kernelspec": {
   "display_name": "Python 3 (ipykernel)",
   "language": "python",
   "name": "python3"
  },
  "language_info": {
   "codemirror_mode": {
    "name": "ipython",
    "version": 3
   },
   "file_extension": ".py",
   "mimetype": "text/x-python",
   "name": "python",
   "nbconvert_exporter": "python",
   "pygments_lexer": "ipython3",
   "version": "3.10.9"
  }
 },
 "nbformat": 4,
 "nbformat_minor": 5
}
