{
 "cells": [
  {
   "cell_type": "code",
   "execution_count": 2,
   "id": "1d2936ea",
   "metadata": {},
   "outputs": [
    {
     "data": {
      "text/html": [
       "<div>\n",
       "<style scoped>\n",
       "    .dataframe tbody tr th:only-of-type {\n",
       "        vertical-align: middle;\n",
       "    }\n",
       "\n",
       "    .dataframe tbody tr th {\n",
       "        vertical-align: top;\n",
       "    }\n",
       "\n",
       "    .dataframe thead th {\n",
       "        text-align: right;\n",
       "    }\n",
       "</style>\n",
       "<table border=\"1\" class=\"dataframe\">\n",
       "  <thead>\n",
       "    <tr style=\"text-align: right;\">\n",
       "      <th></th>\n",
       "      <th>W</th>\n",
       "      <th>X</th>\n",
       "      <th>Y</th>\n",
       "      <th>Z</th>\n",
       "    </tr>\n",
       "  </thead>\n",
       "  <tbody>\n",
       "    <tr>\n",
       "      <th>A</th>\n",
       "      <td>-0.053410</td>\n",
       "      <td>0.391680</td>\n",
       "      <td>0.187115</td>\n",
       "      <td>-1.071624</td>\n",
       "    </tr>\n",
       "    <tr>\n",
       "      <th>B</th>\n",
       "      <td>-2.058598</td>\n",
       "      <td>-0.571396</td>\n",
       "      <td>0.330469</td>\n",
       "      <td>0.736817</td>\n",
       "    </tr>\n",
       "    <tr>\n",
       "      <th>C</th>\n",
       "      <td>0.890010</td>\n",
       "      <td>-1.224420</td>\n",
       "      <td>-0.207737</td>\n",
       "      <td>1.915485</td>\n",
       "    </tr>\n",
       "    <tr>\n",
       "      <th>D</th>\n",
       "      <td>-0.376064</td>\n",
       "      <td>-0.254534</td>\n",
       "      <td>1.133539</td>\n",
       "      <td>-1.750197</td>\n",
       "    </tr>\n",
       "    <tr>\n",
       "      <th>E</th>\n",
       "      <td>-2.838237</td>\n",
       "      <td>1.085394</td>\n",
       "      <td>-0.437521</td>\n",
       "      <td>-1.223425</td>\n",
       "    </tr>\n",
       "  </tbody>\n",
       "</table>\n",
       "</div>"
      ],
      "text/plain": [
       "          W         X         Y         Z\n",
       "A -0.053410  0.391680  0.187115 -1.071624\n",
       "B -2.058598 -0.571396  0.330469  0.736817\n",
       "C  0.890010 -1.224420 -0.207737  1.915485\n",
       "D -0.376064 -0.254534  1.133539 -1.750197\n",
       "E -2.838237  1.085394 -0.437521 -1.223425"
      ]
     },
     "execution_count": 2,
     "metadata": {},
     "output_type": "execute_result"
    }
   ],
   "source": [
    "import pandas as pd\n",
    "import numpy as np\n",
    "from numpy.random import randn\n",
    "df = pd.DataFrame(randn(5, 4), index=\"A B C D E\".split(), columns=\"W X Y Z\".split())\n",
    "df"
   ]
  },
  {
   "cell_type": "code",
   "execution_count": 3,
   "id": "9c294f4b",
   "metadata": {},
   "outputs": [
    {
     "data": {
      "text/plain": [
       "A   -0.053410\n",
       "B   -2.058598\n",
       "C    0.890010\n",
       "D   -0.376064\n",
       "E   -2.838237\n",
       "Name: W, dtype: float64"
      ]
     },
     "execution_count": 3,
     "metadata": {},
     "output_type": "execute_result"
    }
   ],
   "source": [
    "df[\"W\"]"
   ]
  },
  {
   "cell_type": "code",
   "execution_count": 4,
   "id": "8e76563f",
   "metadata": {},
   "outputs": [
    {
     "data": {
      "text/plain": [
       "pandas.core.series.Series"
      ]
     },
     "execution_count": 4,
     "metadata": {},
     "output_type": "execute_result"
    }
   ],
   "source": [
    "type(df[\"W\"])"
   ]
  },
  {
   "cell_type": "code",
   "execution_count": 5,
   "id": "900bc378",
   "metadata": {},
   "outputs": [
    {
     "data": {
      "text/html": [
       "<div>\n",
       "<style scoped>\n",
       "    .dataframe tbody tr th:only-of-type {\n",
       "        vertical-align: middle;\n",
       "    }\n",
       "\n",
       "    .dataframe tbody tr th {\n",
       "        vertical-align: top;\n",
       "    }\n",
       "\n",
       "    .dataframe thead th {\n",
       "        text-align: right;\n",
       "    }\n",
       "</style>\n",
       "<table border=\"1\" class=\"dataframe\">\n",
       "  <thead>\n",
       "    <tr style=\"text-align: right;\">\n",
       "      <th></th>\n",
       "      <th>W</th>\n",
       "      <th>Z</th>\n",
       "    </tr>\n",
       "  </thead>\n",
       "  <tbody>\n",
       "    <tr>\n",
       "      <th>A</th>\n",
       "      <td>-0.053410</td>\n",
       "      <td>-1.071624</td>\n",
       "    </tr>\n",
       "    <tr>\n",
       "      <th>B</th>\n",
       "      <td>-2.058598</td>\n",
       "      <td>0.736817</td>\n",
       "    </tr>\n",
       "    <tr>\n",
       "      <th>C</th>\n",
       "      <td>0.890010</td>\n",
       "      <td>1.915485</td>\n",
       "    </tr>\n",
       "    <tr>\n",
       "      <th>D</th>\n",
       "      <td>-0.376064</td>\n",
       "      <td>-1.750197</td>\n",
       "    </tr>\n",
       "    <tr>\n",
       "      <th>E</th>\n",
       "      <td>-2.838237</td>\n",
       "      <td>-1.223425</td>\n",
       "    </tr>\n",
       "  </tbody>\n",
       "</table>\n",
       "</div>"
      ],
      "text/plain": [
       "          W         Z\n",
       "A -0.053410 -1.071624\n",
       "B -2.058598  0.736817\n",
       "C  0.890010  1.915485\n",
       "D -0.376064 -1.750197\n",
       "E -2.838237 -1.223425"
      ]
     },
     "execution_count": 5,
     "metadata": {},
     "output_type": "execute_result"
    }
   ],
   "source": [
    "df[[\"W\", \"Z\"]]"
   ]
  },
  {
   "cell_type": "markdown",
   "id": "724c6c45",
   "metadata": {},
   "source": [
    "## Criar nova coluna POREM copiando os dados de outra coluna"
   ]
  },
  {
   "cell_type": "code",
   "execution_count": 6,
   "id": "64ebbfff",
   "metadata": {},
   "outputs": [
    {
     "data": {
      "text/html": [
       "<div>\n",
       "<style scoped>\n",
       "    .dataframe tbody tr th:only-of-type {\n",
       "        vertical-align: middle;\n",
       "    }\n",
       "\n",
       "    .dataframe tbody tr th {\n",
       "        vertical-align: top;\n",
       "    }\n",
       "\n",
       "    .dataframe thead th {\n",
       "        text-align: right;\n",
       "    }\n",
       "</style>\n",
       "<table border=\"1\" class=\"dataframe\">\n",
       "  <thead>\n",
       "    <tr style=\"text-align: right;\">\n",
       "      <th></th>\n",
       "      <th>W</th>\n",
       "      <th>X</th>\n",
       "      <th>Y</th>\n",
       "      <th>Z</th>\n",
       "      <th>Novo</th>\n",
       "    </tr>\n",
       "  </thead>\n",
       "  <tbody>\n",
       "    <tr>\n",
       "      <th>A</th>\n",
       "      <td>-0.053410</td>\n",
       "      <td>0.391680</td>\n",
       "      <td>0.187115</td>\n",
       "      <td>-1.071624</td>\n",
       "      <td>-0.053410</td>\n",
       "    </tr>\n",
       "    <tr>\n",
       "      <th>B</th>\n",
       "      <td>-2.058598</td>\n",
       "      <td>-0.571396</td>\n",
       "      <td>0.330469</td>\n",
       "      <td>0.736817</td>\n",
       "      <td>-2.058598</td>\n",
       "    </tr>\n",
       "    <tr>\n",
       "      <th>C</th>\n",
       "      <td>0.890010</td>\n",
       "      <td>-1.224420</td>\n",
       "      <td>-0.207737</td>\n",
       "      <td>1.915485</td>\n",
       "      <td>0.890010</td>\n",
       "    </tr>\n",
       "    <tr>\n",
       "      <th>D</th>\n",
       "      <td>-0.376064</td>\n",
       "      <td>-0.254534</td>\n",
       "      <td>1.133539</td>\n",
       "      <td>-1.750197</td>\n",
       "      <td>-0.376064</td>\n",
       "    </tr>\n",
       "    <tr>\n",
       "      <th>E</th>\n",
       "      <td>-2.838237</td>\n",
       "      <td>1.085394</td>\n",
       "      <td>-0.437521</td>\n",
       "      <td>-1.223425</td>\n",
       "      <td>-2.838237</td>\n",
       "    </tr>\n",
       "  </tbody>\n",
       "</table>\n",
       "</div>"
      ],
      "text/plain": [
       "          W         X         Y         Z      Novo\n",
       "A -0.053410  0.391680  0.187115 -1.071624 -0.053410\n",
       "B -2.058598 -0.571396  0.330469  0.736817 -2.058598\n",
       "C  0.890010 -1.224420 -0.207737  1.915485  0.890010\n",
       "D -0.376064 -0.254534  1.133539 -1.750197 -0.376064\n",
       "E -2.838237  1.085394 -0.437521 -1.223425 -2.838237"
      ]
     },
     "execution_count": 6,
     "metadata": {},
     "output_type": "execute_result"
    }
   ],
   "source": [
    "df[\"Novo\"] = df[\"W\"]\n",
    "df"
   ]
  },
  {
   "cell_type": "code",
   "execution_count": 7,
   "id": "0063e946",
   "metadata": {},
   "outputs": [
    {
     "data": {
      "text/html": [
       "<div>\n",
       "<style scoped>\n",
       "    .dataframe tbody tr th:only-of-type {\n",
       "        vertical-align: middle;\n",
       "    }\n",
       "\n",
       "    .dataframe tbody tr th {\n",
       "        vertical-align: top;\n",
       "    }\n",
       "\n",
       "    .dataframe thead th {\n",
       "        text-align: right;\n",
       "    }\n",
       "</style>\n",
       "<table border=\"1\" class=\"dataframe\">\n",
       "  <thead>\n",
       "    <tr style=\"text-align: right;\">\n",
       "      <th></th>\n",
       "      <th>W</th>\n",
       "      <th>X</th>\n",
       "      <th>Y</th>\n",
       "      <th>Z</th>\n",
       "    </tr>\n",
       "  </thead>\n",
       "  <tbody>\n",
       "    <tr>\n",
       "      <th>A</th>\n",
       "      <td>-0.053410</td>\n",
       "      <td>0.391680</td>\n",
       "      <td>0.187115</td>\n",
       "      <td>-1.071624</td>\n",
       "    </tr>\n",
       "    <tr>\n",
       "      <th>B</th>\n",
       "      <td>-2.058598</td>\n",
       "      <td>-0.571396</td>\n",
       "      <td>0.330469</td>\n",
       "      <td>0.736817</td>\n",
       "    </tr>\n",
       "    <tr>\n",
       "      <th>C</th>\n",
       "      <td>0.890010</td>\n",
       "      <td>-1.224420</td>\n",
       "      <td>-0.207737</td>\n",
       "      <td>1.915485</td>\n",
       "    </tr>\n",
       "    <tr>\n",
       "      <th>D</th>\n",
       "      <td>-0.376064</td>\n",
       "      <td>-0.254534</td>\n",
       "      <td>1.133539</td>\n",
       "      <td>-1.750197</td>\n",
       "    </tr>\n",
       "    <tr>\n",
       "      <th>E</th>\n",
       "      <td>-2.838237</td>\n",
       "      <td>1.085394</td>\n",
       "      <td>-0.437521</td>\n",
       "      <td>-1.223425</td>\n",
       "    </tr>\n",
       "  </tbody>\n",
       "</table>\n",
       "</div>"
      ],
      "text/plain": [
       "          W         X         Y         Z\n",
       "A -0.053410  0.391680  0.187115 -1.071624\n",
       "B -2.058598 -0.571396  0.330469  0.736817\n",
       "C  0.890010 -1.224420 -0.207737  1.915485\n",
       "D -0.376064 -0.254534  1.133539 -1.750197\n",
       "E -2.838237  1.085394 -0.437521 -1.223425"
      ]
     },
     "execution_count": 7,
     "metadata": {},
     "output_type": "execute_result"
    }
   ],
   "source": [
    "del df[\"Novo\"]\n",
    "df"
   ]
  },
  {
   "cell_type": "code",
   "execution_count": 8,
   "id": "eb218940",
   "metadata": {},
   "outputs": [],
   "source": [
    "df[\"Novo\"] = df[\"W\"]\n",
    "df.drop('Novo', axis=1)\n",
    "# Opção sem Retorno\n",
    "df.drop('Novo', axis=1, inplace=True)"
   ]
  },
  {
   "cell_type": "code",
   "execution_count": 9,
   "id": "41228e4b",
   "metadata": {},
   "outputs": [
    {
     "data": {
      "text/plain": [
       "W   -0.053410\n",
       "X    0.391680\n",
       "Y    0.187115\n",
       "Z   -1.071624\n",
       "Name: A, dtype: float64"
      ]
     },
     "execution_count": 9,
     "metadata": {},
     "output_type": "execute_result"
    }
   ],
   "source": [
    "df.loc[\"A\"]"
   ]
  },
  {
   "cell_type": "code",
   "execution_count": 10,
   "id": "61e97044",
   "metadata": {},
   "outputs": [
    {
     "data": {
      "text/html": [
       "<div>\n",
       "<style scoped>\n",
       "    .dataframe tbody tr th:only-of-type {\n",
       "        vertical-align: middle;\n",
       "    }\n",
       "\n",
       "    .dataframe tbody tr th {\n",
       "        vertical-align: top;\n",
       "    }\n",
       "\n",
       "    .dataframe thead th {\n",
       "        text-align: right;\n",
       "    }\n",
       "</style>\n",
       "<table border=\"1\" class=\"dataframe\">\n",
       "  <thead>\n",
       "    <tr style=\"text-align: right;\">\n",
       "      <th></th>\n",
       "      <th>W</th>\n",
       "      <th>X</th>\n",
       "      <th>Y</th>\n",
       "      <th>Z</th>\n",
       "    </tr>\n",
       "  </thead>\n",
       "  <tbody>\n",
       "    <tr>\n",
       "      <th>A</th>\n",
       "      <td>-0.053410</td>\n",
       "      <td>0.391680</td>\n",
       "      <td>0.187115</td>\n",
       "      <td>-1.071624</td>\n",
       "    </tr>\n",
       "    <tr>\n",
       "      <th>C</th>\n",
       "      <td>0.890010</td>\n",
       "      <td>-1.224420</td>\n",
       "      <td>-0.207737</td>\n",
       "      <td>1.915485</td>\n",
       "    </tr>\n",
       "    <tr>\n",
       "      <th>E</th>\n",
       "      <td>-2.838237</td>\n",
       "      <td>1.085394</td>\n",
       "      <td>-0.437521</td>\n",
       "      <td>-1.223425</td>\n",
       "    </tr>\n",
       "  </tbody>\n",
       "</table>\n",
       "</div>"
      ],
      "text/plain": [
       "          W         X         Y         Z\n",
       "A -0.053410  0.391680  0.187115 -1.071624\n",
       "C  0.890010 -1.224420 -0.207737  1.915485\n",
       "E -2.838237  1.085394 -0.437521 -1.223425"
      ]
     },
     "execution_count": 10,
     "metadata": {},
     "output_type": "execute_result"
    }
   ],
   "source": [
    "df.loc[[\"A\", \"C\", \"E\"]]"
   ]
  },
  {
   "cell_type": "code",
   "execution_count": 11,
   "id": "b6f4ebc4",
   "metadata": {},
   "outputs": [
    {
     "data": {
      "text/plain": [
       "0.18711450145167496"
      ]
     },
     "execution_count": 11,
     "metadata": {},
     "output_type": "execute_result"
    }
   ],
   "source": [
    "df.iloc[0,2]"
   ]
  }
 ],
 "metadata": {
  "kernelspec": {
   "display_name": "Python 3 (ipykernel)",
   "language": "python",
   "name": "python3"
  },
  "language_info": {
   "codemirror_mode": {
    "name": "ipython",
    "version": 3
   },
   "file_extension": ".py",
   "mimetype": "text/x-python",
   "name": "python",
   "nbconvert_exporter": "python",
   "pygments_lexer": "ipython3",
   "version": "3.10.9"
  }
 },
 "nbformat": 4,
 "nbformat_minor": 5
}
